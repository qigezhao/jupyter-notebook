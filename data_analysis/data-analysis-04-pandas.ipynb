{
 "cells": [
  {
   "cell_type": "markdown",
   "metadata": {},
   "source": [
    "# Pandas官方网站\n",
    "- https://pandas.pydata.org/"
   ]
  },
  {
   "cell_type": "code",
   "execution_count": 3,
   "metadata": {},
   "outputs": [
    {
     "name": "stdout",
     "output_type": "stream",
     "text": [
      "Requirement already satisfied: pandas in /usr/local/lib/python3.7/site-packages (0.25.3)\n",
      "Requirement already satisfied: python-dateutil>=2.6.1 in /usr/local/Cellar/ipython/7.8.0/libexec/vendor/lib/python3.7/site-packages (from pandas) (2.8.0)\n",
      "Requirement already satisfied: numpy>=1.13.3 in /usr/local/lib/python3.7/site-packages (from pandas) (1.17.3)\n",
      "Requirement already satisfied: pytz>=2017.2 in /usr/local/lib/python3.7/site-packages (from pandas) (2019.3)\n",
      "Requirement already satisfied: six>=1.5 in /usr/local/Cellar/ipython/7.8.0/libexec/vendor/lib/python3.7/site-packages (from python-dateutil>=2.6.1->pandas) (1.12.0)\n",
      "Note: you may need to restart the kernel to use updated packages.\n"
     ]
    }
   ],
   "source": [
    "# install by pip\n",
    "pip install pandas"
   ]
  },
  {
   "cell_type": "markdown",
   "metadata": {},
   "source": [
    "## 引入Numpy包"
   ]
  },
  {
   "cell_type": "code",
   "execution_count": 15,
   "metadata": {},
   "outputs": [],
   "source": [
    "import numpy as np"
   ]
  },
  {
   "cell_type": "markdown",
   "metadata": {},
   "source": [
    "## 引入Pandas包"
   ]
  },
  {
   "cell_type": "code",
   "execution_count": 16,
   "metadata": {},
   "outputs": [],
   "source": [
    "import pandas as pd"
   ]
  },
  {
   "cell_type": "markdown",
   "metadata": {},
   "source": [
    "## 一、Series数据序列"
   ]
  },
  {
   "cell_type": "code",
   "execution_count": 17,
   "metadata": {},
   "outputs": [],
   "source": [
    "# create pd series by range\n",
    "s = pd.Series(np.arange(0, 10)*2)"
   ]
  },
  {
   "cell_type": "code",
   "execution_count": 16,
   "metadata": {},
   "outputs": [
    {
     "data": {
      "text/plain": [
       "pandas.core.series.Series"
      ]
     },
     "execution_count": 16,
     "metadata": {},
     "output_type": "execute_result"
    }
   ],
   "source": [
    "type(s)"
   ]
  },
  {
   "cell_type": "code",
   "execution_count": 17,
   "metadata": {},
   "outputs": [
    {
     "data": {
      "text/plain": [
       "0     0\n",
       "1     2\n",
       "2     4\n",
       "3     6\n",
       "4     8\n",
       "5    10\n",
       "6    12\n",
       "7    14\n",
       "8    16\n",
       "9    18\n",
       "dtype: int64"
      ]
     },
     "execution_count": 17,
     "metadata": {},
     "output_type": "execute_result"
    }
   ],
   "source": [
    "s"
   ]
  },
  {
   "cell_type": "code",
   "execution_count": 19,
   "metadata": {},
   "outputs": [],
   "source": [
    "# date format\n",
    "dates = pd.date_range('20191110', periods=8)"
   ]
  },
  {
   "cell_type": "code",
   "execution_count": 20,
   "metadata": {},
   "outputs": [],
   "source": [
    "# make a pd data frame\n",
    "df = pd.DataFrame(np.random.randn(8, 5), index=dates, columns=list(\"ABCDE\"))"
   ]
  },
  {
   "cell_type": "code",
   "execution_count": 23,
   "metadata": {},
   "outputs": [
    {
     "data": {
      "text/html": [
       "<div>\n",
       "<style scoped>\n",
       "    .dataframe tbody tr th:only-of-type {\n",
       "        vertical-align: middle;\n",
       "    }\n",
       "\n",
       "    .dataframe tbody tr th {\n",
       "        vertical-align: top;\n",
       "    }\n",
       "\n",
       "    .dataframe thead th {\n",
       "        text-align: right;\n",
       "    }\n",
       "</style>\n",
       "<table border=\"1\" class=\"dataframe\">\n",
       "  <thead>\n",
       "    <tr style=\"text-align: right;\">\n",
       "      <th></th>\n",
       "      <th>A</th>\n",
       "      <th>B</th>\n",
       "      <th>C</th>\n",
       "      <th>D</th>\n",
       "      <th>E</th>\n",
       "    </tr>\n",
       "  </thead>\n",
       "  <tbody>\n",
       "    <tr>\n",
       "      <th>2019-11-10</th>\n",
       "      <td>-1.044610</td>\n",
       "      <td>-1.453936</td>\n",
       "      <td>0.135422</td>\n",
       "      <td>1.260773</td>\n",
       "      <td>-0.319078</td>\n",
       "    </tr>\n",
       "    <tr>\n",
       "      <th>2019-11-11</th>\n",
       "      <td>0.527599</td>\n",
       "      <td>-1.725079</td>\n",
       "      <td>0.509419</td>\n",
       "      <td>0.502250</td>\n",
       "      <td>-0.275897</td>\n",
       "    </tr>\n",
       "    <tr>\n",
       "      <th>2019-11-12</th>\n",
       "      <td>0.703457</td>\n",
       "      <td>-0.266678</td>\n",
       "      <td>-0.317504</td>\n",
       "      <td>-0.810008</td>\n",
       "      <td>-0.159035</td>\n",
       "    </tr>\n",
       "    <tr>\n",
       "      <th>2019-11-13</th>\n",
       "      <td>2.101363</td>\n",
       "      <td>0.889887</td>\n",
       "      <td>-0.875467</td>\n",
       "      <td>0.973552</td>\n",
       "      <td>0.295986</td>\n",
       "    </tr>\n",
       "    <tr>\n",
       "      <th>2019-11-14</th>\n",
       "      <td>0.810984</td>\n",
       "      <td>0.678688</td>\n",
       "      <td>0.324501</td>\n",
       "      <td>-0.108170</td>\n",
       "      <td>0.266144</td>\n",
       "    </tr>\n",
       "    <tr>\n",
       "      <th>2019-11-15</th>\n",
       "      <td>1.116840</td>\n",
       "      <td>0.479854</td>\n",
       "      <td>-0.034240</td>\n",
       "      <td>1.415225</td>\n",
       "      <td>-0.469488</td>\n",
       "    </tr>\n",
       "    <tr>\n",
       "      <th>2019-11-16</th>\n",
       "      <td>1.021205</td>\n",
       "      <td>0.657448</td>\n",
       "      <td>-0.083776</td>\n",
       "      <td>1.490485</td>\n",
       "      <td>0.712266</td>\n",
       "    </tr>\n",
       "    <tr>\n",
       "      <th>2019-11-17</th>\n",
       "      <td>-0.749232</td>\n",
       "      <td>-0.368165</td>\n",
       "      <td>-0.294875</td>\n",
       "      <td>-0.549695</td>\n",
       "      <td>1.086922</td>\n",
       "    </tr>\n",
       "  </tbody>\n",
       "</table>\n",
       "</div>"
      ],
      "text/plain": [
       "                   A         B         C         D         E\n",
       "2019-11-10 -1.044610 -1.453936  0.135422  1.260773 -0.319078\n",
       "2019-11-11  0.527599 -1.725079  0.509419  0.502250 -0.275897\n",
       "2019-11-12  0.703457 -0.266678 -0.317504 -0.810008 -0.159035\n",
       "2019-11-13  2.101363  0.889887 -0.875467  0.973552  0.295986\n",
       "2019-11-14  0.810984  0.678688  0.324501 -0.108170  0.266144\n",
       "2019-11-15  1.116840  0.479854 -0.034240  1.415225 -0.469488\n",
       "2019-11-16  1.021205  0.657448 -0.083776  1.490485  0.712266\n",
       "2019-11-17 -0.749232 -0.368165 -0.294875 -0.549695  1.086922"
      ]
     },
     "execution_count": 23,
     "metadata": {},
     "output_type": "execute_result"
    }
   ],
   "source": [
    "df"
   ]
  },
  {
   "cell_type": "code",
   "execution_count": 50,
   "metadata": {
    "scrolled": false
   },
   "outputs": [
    {
     "data": {
      "text/html": [
       "<div>\n",
       "<style scoped>\n",
       "    .dataframe tbody tr th:only-of-type {\n",
       "        vertical-align: middle;\n",
       "    }\n",
       "\n",
       "    .dataframe tbody tr th {\n",
       "        vertical-align: top;\n",
       "    }\n",
       "\n",
       "    .dataframe thead th {\n",
       "        text-align: right;\n",
       "    }\n",
       "</style>\n",
       "<table border=\"1\" class=\"dataframe\">\n",
       "  <thead>\n",
       "    <tr style=\"text-align: right;\">\n",
       "      <th></th>\n",
       "      <th>A</th>\n",
       "      <th>B</th>\n",
       "      <th>C</th>\n",
       "      <th>D</th>\n",
       "      <th>E</th>\n",
       "    </tr>\n",
       "  </thead>\n",
       "  <tbody>\n",
       "    <tr>\n",
       "      <th>count</th>\n",
       "      <td>8.000000</td>\n",
       "      <td>8.000000</td>\n",
       "      <td>8.000000</td>\n",
       "      <td>8.000000</td>\n",
       "      <td>8.000000</td>\n",
       "    </tr>\n",
       "    <tr>\n",
       "      <th>mean</th>\n",
       "      <td>0.560951</td>\n",
       "      <td>-0.138498</td>\n",
       "      <td>-0.079565</td>\n",
       "      <td>0.521801</td>\n",
       "      <td>0.142228</td>\n",
       "    </tr>\n",
       "    <tr>\n",
       "      <th>std</th>\n",
       "      <td>1.019247</td>\n",
       "      <td>1.004138</td>\n",
       "      <td>0.430099</td>\n",
       "      <td>0.910712</td>\n",
       "      <td>0.548892</td>\n",
       "    </tr>\n",
       "    <tr>\n",
       "      <th>min</th>\n",
       "      <td>-1.044610</td>\n",
       "      <td>-1.725079</td>\n",
       "      <td>-0.875467</td>\n",
       "      <td>-0.810008</td>\n",
       "      <td>-0.469488</td>\n",
       "    </tr>\n",
       "    <tr>\n",
       "      <th>25%</th>\n",
       "      <td>0.208391</td>\n",
       "      <td>-0.639608</td>\n",
       "      <td>-0.300533</td>\n",
       "      <td>-0.218551</td>\n",
       "      <td>-0.286693</td>\n",
       "    </tr>\n",
       "    <tr>\n",
       "      <th>50%</th>\n",
       "      <td>0.757220</td>\n",
       "      <td>0.106588</td>\n",
       "      <td>-0.059008</td>\n",
       "      <td>0.737901</td>\n",
       "      <td>0.053554</td>\n",
       "    </tr>\n",
       "    <tr>\n",
       "      <th>75%</th>\n",
       "      <td>1.045114</td>\n",
       "      <td>0.662758</td>\n",
       "      <td>0.182692</td>\n",
       "      <td>1.299386</td>\n",
       "      <td>0.400056</td>\n",
       "    </tr>\n",
       "    <tr>\n",
       "      <th>max</th>\n",
       "      <td>2.101363</td>\n",
       "      <td>0.889887</td>\n",
       "      <td>0.509419</td>\n",
       "      <td>1.490485</td>\n",
       "      <td>1.086922</td>\n",
       "    </tr>\n",
       "  </tbody>\n",
       "</table>\n",
       "</div>"
      ],
      "text/plain": [
       "              A         B         C         D         E\n",
       "count  8.000000  8.000000  8.000000  8.000000  8.000000\n",
       "mean   0.560951 -0.138498 -0.079565  0.521801  0.142228\n",
       "std    1.019247  1.004138  0.430099  0.910712  0.548892\n",
       "min   -1.044610 -1.725079 -0.875467 -0.810008 -0.469488\n",
       "25%    0.208391 -0.639608 -0.300533 -0.218551 -0.286693\n",
       "50%    0.757220  0.106588 -0.059008  0.737901  0.053554\n",
       "75%    1.045114  0.662758  0.182692  1.299386  0.400056\n",
       "max    2.101363  0.889887  0.509419  1.490485  1.086922"
      ]
     },
     "execution_count": 50,
     "metadata": {},
     "output_type": "execute_result"
    }
   ],
   "source": [
    "df.describe()"
   ]
  },
  {
   "cell_type": "code",
   "execution_count": 40,
   "metadata": {},
   "outputs": [
    {
     "name": "stdout",
     "output_type": "stream",
     "text": [
      "<class 'pandas.core.frame.DataFrame'>\n",
      "DatetimeIndex: 8 entries, 2019-11-10 to 2019-11-17\n",
      "Freq: D\n",
      "Data columns (total 5 columns):\n",
      "A    8 non-null float64\n",
      "B    8 non-null float64\n",
      "C    8 non-null float64\n",
      "D    8 non-null float64\n",
      "E    8 non-null float64\n",
      "dtypes: float64(5)\n",
      "memory usage: 704.0 bytes\n"
     ]
    }
   ],
   "source": [
    "df.info()"
   ]
  },
  {
   "cell_type": "markdown",
   "metadata": {},
   "source": [
    "## 二、基本数据操作"
   ]
  },
  {
   "cell_type": "code",
   "execution_count": 32,
   "metadata": {},
   "outputs": [],
   "source": [
    "dates = pd.date_range('20191110', periods=8)"
   ]
  },
  {
   "cell_type": "code",
   "execution_count": 33,
   "metadata": {},
   "outputs": [],
   "source": [
    "df = pd.DataFrame(np.random.randn(8, 5), index=dates, columns=list(\"ABCDE\"))"
   ]
  },
  {
   "cell_type": "code",
   "execution_count": 34,
   "metadata": {},
   "outputs": [
    {
     "data": {
      "text/plain": [
       "DatetimeIndex(['2019-11-10', '2019-11-11', '2019-11-12', '2019-11-13',\n",
       "               '2019-11-14', '2019-11-15', '2019-11-16', '2019-11-17'],\n",
       "              dtype='datetime64[ns]', freq='D')"
      ]
     },
     "execution_count": 34,
     "metadata": {},
     "output_type": "execute_result"
    }
   ],
   "source": [
    "df.index"
   ]
  },
  {
   "cell_type": "code",
   "execution_count": 35,
   "metadata": {},
   "outputs": [
    {
     "data": {
      "text/plain": [
       "array([[-0.4271793 ,  0.44754306,  0.47919056,  1.42126763, -0.77337504],\n",
       "       [-0.09219337, -0.29633912, -0.9869545 ,  0.5226725 , -0.02861468],\n",
       "       [ 0.39704938,  0.89487797, -0.13250951, -0.73180168, -0.02706856],\n",
       "       [-2.06576496, -0.85612288,  1.33812426, -0.41318812, -0.83505186],\n",
       "       [ 0.98133974,  0.23872063,  1.06362328, -0.4892828 ,  0.38745034],\n",
       "       [ 0.35278083, -0.36532955,  1.25011976,  0.47382639,  0.65537866],\n",
       "       [ 1.24524054, -1.30170002, -0.54632737,  0.80241665, -1.33611021],\n",
       "       [ 0.46436029, -0.28183458,  1.37417104, -0.4576678 ,  0.93948837]])"
      ]
     },
     "execution_count": 35,
     "metadata": {},
     "output_type": "execute_result"
    }
   ],
   "source": [
    "df.values"
   ]
  },
  {
   "cell_type": "code",
   "execution_count": 39,
   "metadata": {},
   "outputs": [
    {
     "data": {
      "text/html": [
       "<div>\n",
       "<style scoped>\n",
       "    .dataframe tbody tr th:only-of-type {\n",
       "        vertical-align: middle;\n",
       "    }\n",
       "\n",
       "    .dataframe tbody tr th {\n",
       "        vertical-align: top;\n",
       "    }\n",
       "\n",
       "    .dataframe thead th {\n",
       "        text-align: right;\n",
       "    }\n",
       "</style>\n",
       "<table border=\"1\" class=\"dataframe\">\n",
       "  <thead>\n",
       "    <tr style=\"text-align: right;\">\n",
       "      <th></th>\n",
       "      <th>A</th>\n",
       "      <th>B</th>\n",
       "      <th>C</th>\n",
       "      <th>D</th>\n",
       "      <th>E</th>\n",
       "    </tr>\n",
       "  </thead>\n",
       "  <tbody>\n",
       "    <tr>\n",
       "      <th>count</th>\n",
       "      <td>8.000000</td>\n",
       "      <td>8.000000</td>\n",
       "      <td>8.000000</td>\n",
       "      <td>8.000000</td>\n",
       "      <td>8.000000</td>\n",
       "    </tr>\n",
       "    <tr>\n",
       "      <th>mean</th>\n",
       "      <td>0.106954</td>\n",
       "      <td>-0.190023</td>\n",
       "      <td>0.479930</td>\n",
       "      <td>0.141030</td>\n",
       "      <td>-0.127238</td>\n",
       "    </tr>\n",
       "    <tr>\n",
       "      <th>std</th>\n",
       "      <td>1.026662</td>\n",
       "      <td>0.706834</td>\n",
       "      <td>0.929677</td>\n",
       "      <td>0.770674</td>\n",
       "      <td>0.794168</td>\n",
       "    </tr>\n",
       "    <tr>\n",
       "      <th>min</th>\n",
       "      <td>-2.065765</td>\n",
       "      <td>-1.301700</td>\n",
       "      <td>-0.986955</td>\n",
       "      <td>-0.731802</td>\n",
       "      <td>-1.336110</td>\n",
       "    </tr>\n",
       "    <tr>\n",
       "      <th>25%</th>\n",
       "      <td>-0.175940</td>\n",
       "      <td>-0.488028</td>\n",
       "      <td>-0.235964</td>\n",
       "      <td>-0.465572</td>\n",
       "      <td>-0.788794</td>\n",
       "    </tr>\n",
       "    <tr>\n",
       "      <th>50%</th>\n",
       "      <td>0.374915</td>\n",
       "      <td>-0.289087</td>\n",
       "      <td>0.771407</td>\n",
       "      <td>0.030319</td>\n",
       "      <td>-0.027842</td>\n",
       "    </tr>\n",
       "    <tr>\n",
       "      <th>75%</th>\n",
       "      <td>0.593605</td>\n",
       "      <td>0.290926</td>\n",
       "      <td>1.272121</td>\n",
       "      <td>0.592609</td>\n",
       "      <td>0.454432</td>\n",
       "    </tr>\n",
       "    <tr>\n",
       "      <th>max</th>\n",
       "      <td>1.245241</td>\n",
       "      <td>0.894878</td>\n",
       "      <td>1.374171</td>\n",
       "      <td>1.421268</td>\n",
       "      <td>0.939488</td>\n",
       "    </tr>\n",
       "  </tbody>\n",
       "</table>\n",
       "</div>"
      ],
      "text/plain": [
       "              A         B         C         D         E\n",
       "count  8.000000  8.000000  8.000000  8.000000  8.000000\n",
       "mean   0.106954 -0.190023  0.479930  0.141030 -0.127238\n",
       "std    1.026662  0.706834  0.929677  0.770674  0.794168\n",
       "min   -2.065765 -1.301700 -0.986955 -0.731802 -1.336110\n",
       "25%   -0.175940 -0.488028 -0.235964 -0.465572 -0.788794\n",
       "50%    0.374915 -0.289087  0.771407  0.030319 -0.027842\n",
       "75%    0.593605  0.290926  1.272121  0.592609  0.454432\n",
       "max    1.245241  0.894878  1.374171  1.421268  0.939488"
      ]
     },
     "execution_count": 39,
     "metadata": {},
     "output_type": "execute_result"
    }
   ],
   "source": [
    "df.describe()"
   ]
  },
  {
   "cell_type": "code",
   "execution_count": 36,
   "metadata": {},
   "outputs": [
    {
     "data": {
      "text/html": [
       "<div>\n",
       "<style scoped>\n",
       "    .dataframe tbody tr th:only-of-type {\n",
       "        vertical-align: middle;\n",
       "    }\n",
       "\n",
       "    .dataframe tbody tr th {\n",
       "        vertical-align: top;\n",
       "    }\n",
       "\n",
       "    .dataframe thead th {\n",
       "        text-align: right;\n",
       "    }\n",
       "</style>\n",
       "<table border=\"1\" class=\"dataframe\">\n",
       "  <thead>\n",
       "    <tr style=\"text-align: right;\">\n",
       "      <th></th>\n",
       "      <th>2019-11-10</th>\n",
       "      <th>2019-11-11</th>\n",
       "      <th>2019-11-12</th>\n",
       "      <th>2019-11-13</th>\n",
       "      <th>2019-11-14</th>\n",
       "      <th>2019-11-15</th>\n",
       "      <th>2019-11-16</th>\n",
       "      <th>2019-11-17</th>\n",
       "    </tr>\n",
       "  </thead>\n",
       "  <tbody>\n",
       "    <tr>\n",
       "      <th>A</th>\n",
       "      <td>-0.427179</td>\n",
       "      <td>-0.092193</td>\n",
       "      <td>0.397049</td>\n",
       "      <td>-2.065765</td>\n",
       "      <td>0.981340</td>\n",
       "      <td>0.352781</td>\n",
       "      <td>1.245241</td>\n",
       "      <td>0.464360</td>\n",
       "    </tr>\n",
       "    <tr>\n",
       "      <th>B</th>\n",
       "      <td>0.447543</td>\n",
       "      <td>-0.296339</td>\n",
       "      <td>0.894878</td>\n",
       "      <td>-0.856123</td>\n",
       "      <td>0.238721</td>\n",
       "      <td>-0.365330</td>\n",
       "      <td>-1.301700</td>\n",
       "      <td>-0.281835</td>\n",
       "    </tr>\n",
       "    <tr>\n",
       "      <th>C</th>\n",
       "      <td>0.479191</td>\n",
       "      <td>-0.986955</td>\n",
       "      <td>-0.132510</td>\n",
       "      <td>1.338124</td>\n",
       "      <td>1.063623</td>\n",
       "      <td>1.250120</td>\n",
       "      <td>-0.546327</td>\n",
       "      <td>1.374171</td>\n",
       "    </tr>\n",
       "    <tr>\n",
       "      <th>D</th>\n",
       "      <td>1.421268</td>\n",
       "      <td>0.522672</td>\n",
       "      <td>-0.731802</td>\n",
       "      <td>-0.413188</td>\n",
       "      <td>-0.489283</td>\n",
       "      <td>0.473826</td>\n",
       "      <td>0.802417</td>\n",
       "      <td>-0.457668</td>\n",
       "    </tr>\n",
       "    <tr>\n",
       "      <th>E</th>\n",
       "      <td>-0.773375</td>\n",
       "      <td>-0.028615</td>\n",
       "      <td>-0.027069</td>\n",
       "      <td>-0.835052</td>\n",
       "      <td>0.387450</td>\n",
       "      <td>0.655379</td>\n",
       "      <td>-1.336110</td>\n",
       "      <td>0.939488</td>\n",
       "    </tr>\n",
       "  </tbody>\n",
       "</table>\n",
       "</div>"
      ],
      "text/plain": [
       "   2019-11-10  2019-11-11  2019-11-12  2019-11-13  2019-11-14  2019-11-15  \\\n",
       "A   -0.427179   -0.092193    0.397049   -2.065765    0.981340    0.352781   \n",
       "B    0.447543   -0.296339    0.894878   -0.856123    0.238721   -0.365330   \n",
       "C    0.479191   -0.986955   -0.132510    1.338124    1.063623    1.250120   \n",
       "D    1.421268    0.522672   -0.731802   -0.413188   -0.489283    0.473826   \n",
       "E   -0.773375   -0.028615   -0.027069   -0.835052    0.387450    0.655379   \n",
       "\n",
       "   2019-11-16  2019-11-17  \n",
       "A    1.245241    0.464360  \n",
       "B   -1.301700   -0.281835  \n",
       "C   -0.546327    1.374171  \n",
       "D    0.802417   -0.457668  \n",
       "E   -1.336110    0.939488  "
      ]
     },
     "execution_count": 36,
     "metadata": {},
     "output_type": "execute_result"
    }
   ],
   "source": [
    "df.T"
   ]
  },
  {
   "cell_type": "code",
   "execution_count": 37,
   "metadata": {
    "scrolled": true
   },
   "outputs": [
    {
     "data": {
      "text/html": [
       "<div>\n",
       "<style scoped>\n",
       "    .dataframe tbody tr th:only-of-type {\n",
       "        vertical-align: middle;\n",
       "    }\n",
       "\n",
       "    .dataframe tbody tr th {\n",
       "        vertical-align: top;\n",
       "    }\n",
       "\n",
       "    .dataframe thead th {\n",
       "        text-align: right;\n",
       "    }\n",
       "</style>\n",
       "<table border=\"1\" class=\"dataframe\">\n",
       "  <thead>\n",
       "    <tr style=\"text-align: right;\">\n",
       "      <th></th>\n",
       "      <th>A</th>\n",
       "      <th>B</th>\n",
       "      <th>C</th>\n",
       "      <th>D</th>\n",
       "      <th>E</th>\n",
       "    </tr>\n",
       "  </thead>\n",
       "  <tbody>\n",
       "    <tr>\n",
       "      <th>2019-11-11</th>\n",
       "      <td>-0.092193</td>\n",
       "      <td>-0.296339</td>\n",
       "      <td>-0.986955</td>\n",
       "      <td>0.522672</td>\n",
       "      <td>-0.028615</td>\n",
       "    </tr>\n",
       "    <tr>\n",
       "      <th>2019-11-16</th>\n",
       "      <td>1.245241</td>\n",
       "      <td>-1.301700</td>\n",
       "      <td>-0.546327</td>\n",
       "      <td>0.802417</td>\n",
       "      <td>-1.336110</td>\n",
       "    </tr>\n",
       "    <tr>\n",
       "      <th>2019-11-12</th>\n",
       "      <td>0.397049</td>\n",
       "      <td>0.894878</td>\n",
       "      <td>-0.132510</td>\n",
       "      <td>-0.731802</td>\n",
       "      <td>-0.027069</td>\n",
       "    </tr>\n",
       "    <tr>\n",
       "      <th>2019-11-10</th>\n",
       "      <td>-0.427179</td>\n",
       "      <td>0.447543</td>\n",
       "      <td>0.479191</td>\n",
       "      <td>1.421268</td>\n",
       "      <td>-0.773375</td>\n",
       "    </tr>\n",
       "    <tr>\n",
       "      <th>2019-11-14</th>\n",
       "      <td>0.981340</td>\n",
       "      <td>0.238721</td>\n",
       "      <td>1.063623</td>\n",
       "      <td>-0.489283</td>\n",
       "      <td>0.387450</td>\n",
       "    </tr>\n",
       "    <tr>\n",
       "      <th>2019-11-15</th>\n",
       "      <td>0.352781</td>\n",
       "      <td>-0.365330</td>\n",
       "      <td>1.250120</td>\n",
       "      <td>0.473826</td>\n",
       "      <td>0.655379</td>\n",
       "    </tr>\n",
       "    <tr>\n",
       "      <th>2019-11-13</th>\n",
       "      <td>-2.065765</td>\n",
       "      <td>-0.856123</td>\n",
       "      <td>1.338124</td>\n",
       "      <td>-0.413188</td>\n",
       "      <td>-0.835052</td>\n",
       "    </tr>\n",
       "    <tr>\n",
       "      <th>2019-11-17</th>\n",
       "      <td>0.464360</td>\n",
       "      <td>-0.281835</td>\n",
       "      <td>1.374171</td>\n",
       "      <td>-0.457668</td>\n",
       "      <td>0.939488</td>\n",
       "    </tr>\n",
       "  </tbody>\n",
       "</table>\n",
       "</div>"
      ],
      "text/plain": [
       "                   A         B         C         D         E\n",
       "2019-11-11 -0.092193 -0.296339 -0.986955  0.522672 -0.028615\n",
       "2019-11-16  1.245241 -1.301700 -0.546327  0.802417 -1.336110\n",
       "2019-11-12  0.397049  0.894878 -0.132510 -0.731802 -0.027069\n",
       "2019-11-10 -0.427179  0.447543  0.479191  1.421268 -0.773375\n",
       "2019-11-14  0.981340  0.238721  1.063623 -0.489283  0.387450\n",
       "2019-11-15  0.352781 -0.365330  1.250120  0.473826  0.655379\n",
       "2019-11-13 -2.065765 -0.856123  1.338124 -0.413188 -0.835052\n",
       "2019-11-17  0.464360 -0.281835  1.374171 -0.457668  0.939488"
      ]
     },
     "execution_count": 37,
     "metadata": {},
     "output_type": "execute_result"
    }
   ],
   "source": [
    "# order by column \"C\"\n",
    "df.sort_values(\"C\")"
   ]
  },
  {
   "cell_type": "code",
   "execution_count": 38,
   "metadata": {
    "scrolled": true
   },
   "outputs": [
    {
     "data": {
      "text/html": [
       "<div>\n",
       "<style scoped>\n",
       "    .dataframe tbody tr th:only-of-type {\n",
       "        vertical-align: middle;\n",
       "    }\n",
       "\n",
       "    .dataframe tbody tr th {\n",
       "        vertical-align: top;\n",
       "    }\n",
       "\n",
       "    .dataframe thead th {\n",
       "        text-align: right;\n",
       "    }\n",
       "</style>\n",
       "<table border=\"1\" class=\"dataframe\">\n",
       "  <thead>\n",
       "    <tr style=\"text-align: right;\">\n",
       "      <th></th>\n",
       "      <th>E</th>\n",
       "      <th>D</th>\n",
       "      <th>C</th>\n",
       "      <th>B</th>\n",
       "      <th>A</th>\n",
       "    </tr>\n",
       "  </thead>\n",
       "  <tbody>\n",
       "    <tr>\n",
       "      <th>2019-11-10</th>\n",
       "      <td>-0.773375</td>\n",
       "      <td>1.421268</td>\n",
       "      <td>0.479191</td>\n",
       "      <td>0.447543</td>\n",
       "      <td>-0.427179</td>\n",
       "    </tr>\n",
       "    <tr>\n",
       "      <th>2019-11-11</th>\n",
       "      <td>-0.028615</td>\n",
       "      <td>0.522672</td>\n",
       "      <td>-0.986955</td>\n",
       "      <td>-0.296339</td>\n",
       "      <td>-0.092193</td>\n",
       "    </tr>\n",
       "    <tr>\n",
       "      <th>2019-11-12</th>\n",
       "      <td>-0.027069</td>\n",
       "      <td>-0.731802</td>\n",
       "      <td>-0.132510</td>\n",
       "      <td>0.894878</td>\n",
       "      <td>0.397049</td>\n",
       "    </tr>\n",
       "    <tr>\n",
       "      <th>2019-11-13</th>\n",
       "      <td>-0.835052</td>\n",
       "      <td>-0.413188</td>\n",
       "      <td>1.338124</td>\n",
       "      <td>-0.856123</td>\n",
       "      <td>-2.065765</td>\n",
       "    </tr>\n",
       "    <tr>\n",
       "      <th>2019-11-14</th>\n",
       "      <td>0.387450</td>\n",
       "      <td>-0.489283</td>\n",
       "      <td>1.063623</td>\n",
       "      <td>0.238721</td>\n",
       "      <td>0.981340</td>\n",
       "    </tr>\n",
       "    <tr>\n",
       "      <th>2019-11-15</th>\n",
       "      <td>0.655379</td>\n",
       "      <td>0.473826</td>\n",
       "      <td>1.250120</td>\n",
       "      <td>-0.365330</td>\n",
       "      <td>0.352781</td>\n",
       "    </tr>\n",
       "    <tr>\n",
       "      <th>2019-11-16</th>\n",
       "      <td>-1.336110</td>\n",
       "      <td>0.802417</td>\n",
       "      <td>-0.546327</td>\n",
       "      <td>-1.301700</td>\n",
       "      <td>1.245241</td>\n",
       "    </tr>\n",
       "    <tr>\n",
       "      <th>2019-11-17</th>\n",
       "      <td>0.939488</td>\n",
       "      <td>-0.457668</td>\n",
       "      <td>1.374171</td>\n",
       "      <td>-0.281835</td>\n",
       "      <td>0.464360</td>\n",
       "    </tr>\n",
       "  </tbody>\n",
       "</table>\n",
       "</div>"
      ],
      "text/plain": [
       "                   E         D         C         B         A\n",
       "2019-11-10 -0.773375  1.421268  0.479191  0.447543 -0.427179\n",
       "2019-11-11 -0.028615  0.522672 -0.986955 -0.296339 -0.092193\n",
       "2019-11-12 -0.027069 -0.731802 -0.132510  0.894878  0.397049\n",
       "2019-11-13 -0.835052 -0.413188  1.338124 -0.856123 -2.065765\n",
       "2019-11-14  0.387450 -0.489283  1.063623  0.238721  0.981340\n",
       "2019-11-15  0.655379  0.473826  1.250120 -0.365330  0.352781\n",
       "2019-11-16 -1.336110  0.802417 -0.546327 -1.301700  1.245241\n",
       "2019-11-17  0.939488 -0.457668  1.374171 -0.281835  0.464360"
      ]
     },
     "execution_count": 38,
     "metadata": {},
     "output_type": "execute_result"
    }
   ],
   "source": [
    "# order by Row name DESC\n",
    "df.sort_index(axis=1, ascending=False)"
   ]
  },
  {
   "cell_type": "markdown",
   "metadata": {},
   "source": [
    "### 数据选取"
   ]
  },
  {
   "cell_type": "code",
   "execution_count": 92,
   "metadata": {},
   "outputs": [],
   "source": [
    "df1 = df.copy()"
   ]
  },
  {
   "cell_type": "code",
   "execution_count": 93,
   "metadata": {
    "scrolled": true
   },
   "outputs": [
    {
     "data": {
      "text/html": [
       "<div>\n",
       "<style scoped>\n",
       "    .dataframe tbody tr th:only-of-type {\n",
       "        vertical-align: middle;\n",
       "    }\n",
       "\n",
       "    .dataframe tbody tr th {\n",
       "        vertical-align: top;\n",
       "    }\n",
       "\n",
       "    .dataframe thead th {\n",
       "        text-align: right;\n",
       "    }\n",
       "</style>\n",
       "<table border=\"1\" class=\"dataframe\">\n",
       "  <thead>\n",
       "    <tr style=\"text-align: right;\">\n",
       "      <th></th>\n",
       "      <th>A</th>\n",
       "      <th>B</th>\n",
       "      <th>C</th>\n",
       "      <th>D</th>\n",
       "      <th>E</th>\n",
       "      <th>F</th>\n",
       "    </tr>\n",
       "  </thead>\n",
       "  <tbody>\n",
       "    <tr>\n",
       "      <th>2019-11-10</th>\n",
       "      <td>0.612915</td>\n",
       "      <td>0.151818</td>\n",
       "      <td>-0.122788</td>\n",
       "      <td>1.149431</td>\n",
       "      <td>0.550151</td>\n",
       "      <td>10</td>\n",
       "    </tr>\n",
       "    <tr>\n",
       "      <th>2019-11-11</th>\n",
       "      <td>-0.003511</td>\n",
       "      <td>-0.009435</td>\n",
       "      <td>-1.517428</td>\n",
       "      <td>-1.066616</td>\n",
       "      <td>0.229112</td>\n",
       "      <td>11</td>\n",
       "    </tr>\n",
       "    <tr>\n",
       "      <th>2019-11-12</th>\n",
       "      <td>-1.136879</td>\n",
       "      <td>0.981823</td>\n",
       "      <td>-0.069868</td>\n",
       "      <td>0.327714</td>\n",
       "      <td>0.197066</td>\n",
       "      <td>12</td>\n",
       "    </tr>\n",
       "  </tbody>\n",
       "</table>\n",
       "</div>"
      ],
      "text/plain": [
       "                   A         B         C         D         E   F\n",
       "2019-11-10  0.612915  0.151818 -0.122788  1.149431  0.550151  10\n",
       "2019-11-11 -0.003511 -0.009435 -1.517428 -1.066616  0.229112  11\n",
       "2019-11-12 -1.136879  0.981823 -0.069868  0.327714  0.197066  12"
      ]
     },
     "execution_count": 93,
     "metadata": {},
     "output_type": "execute_result"
    }
   ],
   "source": [
    "# first 3 records\n",
    "df1.head(3)"
   ]
  },
  {
   "cell_type": "code",
   "execution_count": 94,
   "metadata": {
    "scrolled": true
   },
   "outputs": [
    {
     "data": {
      "text/html": [
       "<div>\n",
       "<style scoped>\n",
       "    .dataframe tbody tr th:only-of-type {\n",
       "        vertical-align: middle;\n",
       "    }\n",
       "\n",
       "    .dataframe tbody tr th {\n",
       "        vertical-align: top;\n",
       "    }\n",
       "\n",
       "    .dataframe thead th {\n",
       "        text-align: right;\n",
       "    }\n",
       "</style>\n",
       "<table border=\"1\" class=\"dataframe\">\n",
       "  <thead>\n",
       "    <tr style=\"text-align: right;\">\n",
       "      <th></th>\n",
       "      <th>A</th>\n",
       "      <th>B</th>\n",
       "      <th>C</th>\n",
       "      <th>D</th>\n",
       "      <th>E</th>\n",
       "      <th>F</th>\n",
       "    </tr>\n",
       "  </thead>\n",
       "  <tbody>\n",
       "    <tr>\n",
       "      <th>2019-11-16</th>\n",
       "      <td>-0.084350</td>\n",
       "      <td>0.724433</td>\n",
       "      <td>1.072255</td>\n",
       "      <td>-1.696514</td>\n",
       "      <td>0.126097</td>\n",
       "      <td>16</td>\n",
       "    </tr>\n",
       "    <tr>\n",
       "      <th>2019-11-17</th>\n",
       "      <td>0.868117</td>\n",
       "      <td>0.637180</td>\n",
       "      <td>-0.152896</td>\n",
       "      <td>0.221357</td>\n",
       "      <td>0.397580</td>\n",
       "      <td>17</td>\n",
       "    </tr>\n",
       "  </tbody>\n",
       "</table>\n",
       "</div>"
      ],
      "text/plain": [
       "                   A         B         C         D         E   F\n",
       "2019-11-16 -0.084350  0.724433  1.072255 -1.696514  0.126097  16\n",
       "2019-11-17  0.868117  0.637180 -0.152896  0.221357  0.397580  17"
      ]
     },
     "execution_count": 94,
     "metadata": {},
     "output_type": "execute_result"
    }
   ],
   "source": [
    "# last 2 records\n",
    "df1.tail(2)"
   ]
  },
  {
   "cell_type": "code",
   "execution_count": 95,
   "metadata": {},
   "outputs": [
    {
     "data": {
      "text/plain": [
       "2019-11-10    0.612915\n",
       "2019-11-11   -0.003511\n",
       "2019-11-12   -1.136879\n",
       "2019-11-13   -0.995458\n",
       "2019-11-14    1.951528\n",
       "2019-11-15   -0.553523\n",
       "2019-11-16   -0.084350\n",
       "2019-11-17    0.868117\n",
       "Freq: D, Name: A, dtype: float64"
      ]
     },
     "execution_count": 95,
     "metadata": {},
     "output_type": "execute_result"
    }
   ],
   "source": [
    "# get column \"A\", with \"index\"\n",
    "y = df1[\"A\"]\n",
    "y"
   ]
  },
  {
   "cell_type": "code",
   "execution_count": 53,
   "metadata": {},
   "outputs": [
    {
     "data": {
      "text/plain": [
       "pandas.core.series.Series"
      ]
     },
     "execution_count": 53,
     "metadata": {},
     "output_type": "execute_result"
    }
   ],
   "source": [
    "type(y)"
   ]
  },
  {
   "cell_type": "code",
   "execution_count": 96,
   "metadata": {
    "scrolled": true
   },
   "outputs": [
    {
     "data": {
      "text/html": [
       "<div>\n",
       "<style scoped>\n",
       "    .dataframe tbody tr th:only-of-type {\n",
       "        vertical-align: middle;\n",
       "    }\n",
       "\n",
       "    .dataframe tbody tr th {\n",
       "        vertical-align: top;\n",
       "    }\n",
       "\n",
       "    .dataframe thead th {\n",
       "        text-align: right;\n",
       "    }\n",
       "</style>\n",
       "<table border=\"1\" class=\"dataframe\">\n",
       "  <thead>\n",
       "    <tr style=\"text-align: right;\">\n",
       "      <th></th>\n",
       "      <th>A</th>\n",
       "      <th>B</th>\n",
       "      <th>C</th>\n",
       "      <th>D</th>\n",
       "      <th>E</th>\n",
       "      <th>F</th>\n",
       "    </tr>\n",
       "  </thead>\n",
       "  <tbody>\n",
       "    <tr>\n",
       "      <th>2019-11-10</th>\n",
       "      <td>0.612915</td>\n",
       "      <td>0.151818</td>\n",
       "      <td>-0.122788</td>\n",
       "      <td>1.149431</td>\n",
       "      <td>0.550151</td>\n",
       "      <td>10</td>\n",
       "    </tr>\n",
       "    <tr>\n",
       "      <th>2019-11-11</th>\n",
       "      <td>-0.003511</td>\n",
       "      <td>-0.009435</td>\n",
       "      <td>-1.517428</td>\n",
       "      <td>-1.066616</td>\n",
       "      <td>0.229112</td>\n",
       "      <td>11</td>\n",
       "    </tr>\n",
       "    <tr>\n",
       "      <th>2019-11-12</th>\n",
       "      <td>-1.136879</td>\n",
       "      <td>0.981823</td>\n",
       "      <td>-0.069868</td>\n",
       "      <td>0.327714</td>\n",
       "      <td>0.197066</td>\n",
       "      <td>12</td>\n",
       "    </tr>\n",
       "  </tbody>\n",
       "</table>\n",
       "</div>"
      ],
      "text/plain": [
       "                   A         B         C         D         E   F\n",
       "2019-11-10  0.612915  0.151818 -0.122788  1.149431  0.550151  10\n",
       "2019-11-11 -0.003511 -0.009435 -1.517428 -1.066616  0.229112  11\n",
       "2019-11-12 -1.136879  0.981823 -0.069868  0.327714  0.197066  12"
      ]
     },
     "execution_count": 96,
     "metadata": {},
     "output_type": "execute_result"
    }
   ],
   "source": [
    "# same as df2.head(3)\n",
    "df1[:3]"
   ]
  },
  {
   "cell_type": "code",
   "execution_count": 97,
   "metadata": {},
   "outputs": [
    {
     "data": {
      "text/html": [
       "<div>\n",
       "<style scoped>\n",
       "    .dataframe tbody tr th:only-of-type {\n",
       "        vertical-align: middle;\n",
       "    }\n",
       "\n",
       "    .dataframe tbody tr th {\n",
       "        vertical-align: top;\n",
       "    }\n",
       "\n",
       "    .dataframe thead th {\n",
       "        text-align: right;\n",
       "    }\n",
       "</style>\n",
       "<table border=\"1\" class=\"dataframe\">\n",
       "  <thead>\n",
       "    <tr style=\"text-align: right;\">\n",
       "      <th></th>\n",
       "      <th>A</th>\n",
       "      <th>B</th>\n",
       "      <th>C</th>\n",
       "      <th>D</th>\n",
       "      <th>E</th>\n",
       "      <th>F</th>\n",
       "    </tr>\n",
       "  </thead>\n",
       "  <tbody>\n",
       "    <tr>\n",
       "      <th>2019-11-10</th>\n",
       "      <td>0.612915</td>\n",
       "      <td>0.151818</td>\n",
       "      <td>-0.122788</td>\n",
       "      <td>1.149431</td>\n",
       "      <td>0.550151</td>\n",
       "      <td>10</td>\n",
       "    </tr>\n",
       "    <tr>\n",
       "      <th>2019-11-11</th>\n",
       "      <td>-0.003511</td>\n",
       "      <td>-0.009435</td>\n",
       "      <td>-1.517428</td>\n",
       "      <td>-1.066616</td>\n",
       "      <td>0.229112</td>\n",
       "      <td>11</td>\n",
       "    </tr>\n",
       "    <tr>\n",
       "      <th>2019-11-12</th>\n",
       "      <td>-1.136879</td>\n",
       "      <td>0.981823</td>\n",
       "      <td>-0.069868</td>\n",
       "      <td>0.327714</td>\n",
       "      <td>0.197066</td>\n",
       "      <td>12</td>\n",
       "    </tr>\n",
       "    <tr>\n",
       "      <th>2019-11-13</th>\n",
       "      <td>-0.995458</td>\n",
       "      <td>0.514502</td>\n",
       "      <td>0.777380</td>\n",
       "      <td>0.833623</td>\n",
       "      <td>-1.252500</td>\n",
       "      <td>13</td>\n",
       "    </tr>\n",
       "    <tr>\n",
       "      <th>2019-11-14</th>\n",
       "      <td>1.951528</td>\n",
       "      <td>0.102278</td>\n",
       "      <td>0.271428</td>\n",
       "      <td>1.299579</td>\n",
       "      <td>-0.564014</td>\n",
       "      <td>14</td>\n",
       "    </tr>\n",
       "    <tr>\n",
       "      <th>2019-11-15</th>\n",
       "      <td>-0.553523</td>\n",
       "      <td>0.077664</td>\n",
       "      <td>-0.264692</td>\n",
       "      <td>-0.216956</td>\n",
       "      <td>-1.101061</td>\n",
       "      <td>15</td>\n",
       "    </tr>\n",
       "  </tbody>\n",
       "</table>\n",
       "</div>"
      ],
      "text/plain": [
       "                   A         B         C         D         E   F\n",
       "2019-11-10  0.612915  0.151818 -0.122788  1.149431  0.550151  10\n",
       "2019-11-11 -0.003511 -0.009435 -1.517428 -1.066616  0.229112  11\n",
       "2019-11-12 -1.136879  0.981823 -0.069868  0.327714  0.197066  12\n",
       "2019-11-13 -0.995458  0.514502  0.777380  0.833623 -1.252500  13\n",
       "2019-11-14  1.951528  0.102278  0.271428  1.299579 -0.564014  14\n",
       "2019-11-15 -0.553523  0.077664 -0.264692 -0.216956 -1.101061  15"
      ]
     },
     "execution_count": 97,
     "metadata": {},
     "output_type": "execute_result"
    }
   ],
   "source": [
    "# get by \"index\"\n",
    "df1[\"20191110\":\"20191115\"]"
   ]
  },
  {
   "cell_type": "code",
   "execution_count": 98,
   "metadata": {},
   "outputs": [
    {
     "data": {
      "text/html": [
       "<div>\n",
       "<style scoped>\n",
       "    .dataframe tbody tr th:only-of-type {\n",
       "        vertical-align: middle;\n",
       "    }\n",
       "\n",
       "    .dataframe tbody tr th {\n",
       "        vertical-align: top;\n",
       "    }\n",
       "\n",
       "    .dataframe thead th {\n",
       "        text-align: right;\n",
       "    }\n",
       "</style>\n",
       "<table border=\"1\" class=\"dataframe\">\n",
       "  <thead>\n",
       "    <tr style=\"text-align: right;\">\n",
       "      <th></th>\n",
       "      <th>B</th>\n",
       "      <th>E</th>\n",
       "    </tr>\n",
       "  </thead>\n",
       "  <tbody>\n",
       "    <tr>\n",
       "      <th>2019-11-10</th>\n",
       "      <td>0.151818</td>\n",
       "      <td>0.550151</td>\n",
       "    </tr>\n",
       "    <tr>\n",
       "      <th>2019-11-11</th>\n",
       "      <td>-0.009435</td>\n",
       "      <td>0.229112</td>\n",
       "    </tr>\n",
       "    <tr>\n",
       "      <th>2019-11-12</th>\n",
       "      <td>0.981823</td>\n",
       "      <td>0.197066</td>\n",
       "    </tr>\n",
       "    <tr>\n",
       "      <th>2019-11-13</th>\n",
       "      <td>0.514502</td>\n",
       "      <td>-1.252500</td>\n",
       "    </tr>\n",
       "    <tr>\n",
       "      <th>2019-11-14</th>\n",
       "      <td>0.102278</td>\n",
       "      <td>-0.564014</td>\n",
       "    </tr>\n",
       "    <tr>\n",
       "      <th>2019-11-15</th>\n",
       "      <td>0.077664</td>\n",
       "      <td>-1.101061</td>\n",
       "    </tr>\n",
       "  </tbody>\n",
       "</table>\n",
       "</div>"
      ],
      "text/plain": [
       "                   B         E\n",
       "2019-11-10  0.151818  0.550151\n",
       "2019-11-11 -0.009435  0.229112\n",
       "2019-11-12  0.981823  0.197066\n",
       "2019-11-13  0.514502 -1.252500\n",
       "2019-11-14  0.102278 -0.564014\n",
       "2019-11-15  0.077664 -1.101061"
      ]
     },
     "execution_count": 98,
     "metadata": {},
     "output_type": "execute_result"
    }
   ],
   "source": [
    "# more filters: \"index\" range, column \"B\", \"E\" only\n",
    "df1.loc[\"20191110\":\"20191115\", [\"B\",\"E\"]]"
   ]
  },
  {
   "cell_type": "code",
   "execution_count": 61,
   "metadata": {},
   "outputs": [
    {
     "data": {
      "text/plain": [
       "-1.4539358683138135"
      ]
     },
     "execution_count": 61,
     "metadata": {},
     "output_type": "execute_result"
    }
   ],
   "source": [
    "df1.at[dates[0], \"B\"]"
   ]
  },
  {
   "cell_type": "code",
   "execution_count": 63,
   "metadata": {},
   "outputs": [
    {
     "data": {
      "text/plain": [
       "-1.4539358683138135"
      ]
     },
     "execution_count": 63,
     "metadata": {},
     "output_type": "execute_result"
    }
   ],
   "source": [
    "df1.at[\"20191110\", \"B\"]"
   ]
  },
  {
   "cell_type": "code",
   "execution_count": 68,
   "metadata": {},
   "outputs": [
    {
     "data": {
      "text/plain": [
       "-1.4539358683138135"
      ]
     },
     "execution_count": 68,
     "metadata": {},
     "output_type": "execute_result"
    }
   ],
   "source": [
    "# by \"index\"\n",
    "df1.iat[0, 1]"
   ]
  },
  {
   "cell_type": "code",
   "execution_count": 67,
   "metadata": {},
   "outputs": [
    {
     "data": {
      "text/plain": [
       "-1.4539358683138135"
      ]
     },
     "execution_count": 67,
     "metadata": {},
     "output_type": "execute_result"
    }
   ],
   "source": [
    "df1.iloc[0, 1]"
   ]
  },
  {
   "cell_type": "code",
   "execution_count": 65,
   "metadata": {},
   "outputs": [
    {
     "data": {
      "text/html": [
       "<div>\n",
       "<style scoped>\n",
       "    .dataframe tbody tr th:only-of-type {\n",
       "        vertical-align: middle;\n",
       "    }\n",
       "\n",
       "    .dataframe tbody tr th {\n",
       "        vertical-align: top;\n",
       "    }\n",
       "\n",
       "    .dataframe thead th {\n",
       "        text-align: right;\n",
       "    }\n",
       "</style>\n",
       "<table border=\"1\" class=\"dataframe\">\n",
       "  <thead>\n",
       "    <tr style=\"text-align: right;\">\n",
       "      <th></th>\n",
       "      <th>D</th>\n",
       "      <th>E</th>\n",
       "    </tr>\n",
       "  </thead>\n",
       "  <tbody>\n",
       "    <tr>\n",
       "      <th>2019-11-10</th>\n",
       "      <td>1.260773</td>\n",
       "      <td>-0.319078</td>\n",
       "    </tr>\n",
       "    <tr>\n",
       "      <th>2019-11-11</th>\n",
       "      <td>0.502250</td>\n",
       "      <td>-0.275897</td>\n",
       "    </tr>\n",
       "  </tbody>\n",
       "</table>\n",
       "</div>"
      ],
      "text/plain": [
       "                   D         E\n",
       "2019-11-10  1.260773 -0.319078\n",
       "2019-11-11  0.502250 -0.275897"
      ]
     },
     "execution_count": 65,
     "metadata": {},
     "output_type": "execute_result"
    }
   ],
   "source": [
    "df1.iloc[0:2, 3:5]"
   ]
  },
  {
   "cell_type": "code",
   "execution_count": 72,
   "metadata": {},
   "outputs": [
    {
     "name": "stderr",
     "output_type": "stream",
     "text": [
      "/usr/local/Cellar/ipython/7.8.0/libexec/vendor/lib/python3.7/site-packages/ipykernel_launcher.py:1: UserWarning: Boolean Series key will be reindexed to match DataFrame index.\n",
      "  \"\"\"Entry point for launching an IPython kernel.\n"
     ]
    },
    {
     "data": {
      "text/html": [
       "<div>\n",
       "<style scoped>\n",
       "    .dataframe tbody tr th:only-of-type {\n",
       "        vertical-align: middle;\n",
       "    }\n",
       "\n",
       "    .dataframe tbody tr th {\n",
       "        vertical-align: top;\n",
       "    }\n",
       "\n",
       "    .dataframe thead th {\n",
       "        text-align: right;\n",
       "    }\n",
       "</style>\n",
       "<table border=\"1\" class=\"dataframe\">\n",
       "  <thead>\n",
       "    <tr style=\"text-align: right;\">\n",
       "      <th></th>\n",
       "      <th>A</th>\n",
       "      <th>B</th>\n",
       "      <th>C</th>\n",
       "      <th>D</th>\n",
       "      <th>E</th>\n",
       "    </tr>\n",
       "  </thead>\n",
       "  <tbody>\n",
       "    <tr>\n",
       "      <th>2019-11-14</th>\n",
       "      <td>0.810984</td>\n",
       "      <td>0.678688</td>\n",
       "      <td>0.324501</td>\n",
       "      <td>-0.10817</td>\n",
       "      <td>0.266144</td>\n",
       "    </tr>\n",
       "  </tbody>\n",
       "</table>\n",
       "</div>"
      ],
      "text/plain": [
       "                   A         B         C        D         E\n",
       "2019-11-14  0.810984  0.678688  0.324501 -0.10817  0.266144"
      ]
     },
     "execution_count": 72,
     "metadata": {},
     "output_type": "execute_result"
    }
   ],
   "source": [
    "# more filters: column B value > 0, column A value < 1\n",
    "df1[df1.B>0][df1.A<1]"
   ]
  },
  {
   "cell_type": "code",
   "execution_count": 99,
   "metadata": {},
   "outputs": [
    {
     "data": {
      "text/html": [
       "<div>\n",
       "<style scoped>\n",
       "    .dataframe tbody tr th:only-of-type {\n",
       "        vertical-align: middle;\n",
       "    }\n",
       "\n",
       "    .dataframe tbody tr th {\n",
       "        vertical-align: top;\n",
       "    }\n",
       "\n",
       "    .dataframe thead th {\n",
       "        text-align: right;\n",
       "    }\n",
       "</style>\n",
       "<table border=\"1\" class=\"dataframe\">\n",
       "  <thead>\n",
       "    <tr style=\"text-align: right;\">\n",
       "      <th></th>\n",
       "      <th>A</th>\n",
       "      <th>B</th>\n",
       "      <th>C</th>\n",
       "      <th>D</th>\n",
       "      <th>E</th>\n",
       "      <th>F</th>\n",
       "    </tr>\n",
       "  </thead>\n",
       "  <tbody>\n",
       "    <tr>\n",
       "      <th>2019-11-10</th>\n",
       "      <td>0.612915</td>\n",
       "      <td>0.151818</td>\n",
       "      <td>NaN</td>\n",
       "      <td>1.149431</td>\n",
       "      <td>0.550151</td>\n",
       "      <td>10</td>\n",
       "    </tr>\n",
       "    <tr>\n",
       "      <th>2019-11-11</th>\n",
       "      <td>NaN</td>\n",
       "      <td>NaN</td>\n",
       "      <td>NaN</td>\n",
       "      <td>NaN</td>\n",
       "      <td>0.229112</td>\n",
       "      <td>11</td>\n",
       "    </tr>\n",
       "    <tr>\n",
       "      <th>2019-11-12</th>\n",
       "      <td>NaN</td>\n",
       "      <td>0.981823</td>\n",
       "      <td>NaN</td>\n",
       "      <td>0.327714</td>\n",
       "      <td>0.197066</td>\n",
       "      <td>12</td>\n",
       "    </tr>\n",
       "    <tr>\n",
       "      <th>2019-11-13</th>\n",
       "      <td>NaN</td>\n",
       "      <td>0.514502</td>\n",
       "      <td>0.777380</td>\n",
       "      <td>0.833623</td>\n",
       "      <td>NaN</td>\n",
       "      <td>13</td>\n",
       "    </tr>\n",
       "    <tr>\n",
       "      <th>2019-11-14</th>\n",
       "      <td>1.951528</td>\n",
       "      <td>0.102278</td>\n",
       "      <td>0.271428</td>\n",
       "      <td>1.299579</td>\n",
       "      <td>NaN</td>\n",
       "      <td>14</td>\n",
       "    </tr>\n",
       "    <tr>\n",
       "      <th>2019-11-15</th>\n",
       "      <td>NaN</td>\n",
       "      <td>0.077664</td>\n",
       "      <td>NaN</td>\n",
       "      <td>NaN</td>\n",
       "      <td>NaN</td>\n",
       "      <td>15</td>\n",
       "    </tr>\n",
       "    <tr>\n",
       "      <th>2019-11-16</th>\n",
       "      <td>NaN</td>\n",
       "      <td>0.724433</td>\n",
       "      <td>1.072255</td>\n",
       "      <td>NaN</td>\n",
       "      <td>0.126097</td>\n",
       "      <td>16</td>\n",
       "    </tr>\n",
       "    <tr>\n",
       "      <th>2019-11-17</th>\n",
       "      <td>0.868117</td>\n",
       "      <td>0.637180</td>\n",
       "      <td>NaN</td>\n",
       "      <td>0.221357</td>\n",
       "      <td>0.397580</td>\n",
       "      <td>17</td>\n",
       "    </tr>\n",
       "  </tbody>\n",
       "</table>\n",
       "</div>"
      ],
      "text/plain": [
       "                   A         B         C         D         E   F\n",
       "2019-11-10  0.612915  0.151818       NaN  1.149431  0.550151  10\n",
       "2019-11-11       NaN       NaN       NaN       NaN  0.229112  11\n",
       "2019-11-12       NaN  0.981823       NaN  0.327714  0.197066  12\n",
       "2019-11-13       NaN  0.514502  0.777380  0.833623       NaN  13\n",
       "2019-11-14  1.951528  0.102278  0.271428  1.299579       NaN  14\n",
       "2019-11-15       NaN  0.077664       NaN       NaN       NaN  15\n",
       "2019-11-16       NaN  0.724433  1.072255       NaN  0.126097  16\n",
       "2019-11-17  0.868117  0.637180       NaN  0.221357  0.397580  17"
      ]
     },
     "execution_count": 99,
     "metadata": {},
     "output_type": "execute_result"
    }
   ],
   "source": [
    "# value of any columns > 0\n",
    "df1[df1>0]"
   ]
  },
  {
   "cell_type": "code",
   "execution_count": 101,
   "metadata": {},
   "outputs": [
    {
     "data": {
      "text/html": [
       "<div>\n",
       "<style scoped>\n",
       "    .dataframe tbody tr th:only-of-type {\n",
       "        vertical-align: middle;\n",
       "    }\n",
       "\n",
       "    .dataframe tbody tr th {\n",
       "        vertical-align: top;\n",
       "    }\n",
       "\n",
       "    .dataframe thead th {\n",
       "        text-align: right;\n",
       "    }\n",
       "</style>\n",
       "<table border=\"1\" class=\"dataframe\">\n",
       "  <thead>\n",
       "    <tr style=\"text-align: right;\">\n",
       "      <th></th>\n",
       "      <th>A</th>\n",
       "      <th>B</th>\n",
       "      <th>C</th>\n",
       "      <th>D</th>\n",
       "      <th>E</th>\n",
       "      <th>F</th>\n",
       "    </tr>\n",
       "  </thead>\n",
       "  <tbody>\n",
       "  </tbody>\n",
       "</table>\n",
       "</div>"
      ],
      "text/plain": [
       "Empty DataFrame\n",
       "Columns: [A, B, C, D, E, F]\n",
       "Index: []"
      ]
     },
     "execution_count": 101,
     "metadata": {},
     "output_type": "execute_result"
    }
   ],
   "source": [
    "# column value in choice\n",
    "df1[df1[\"A\"].isin([1, 2])]"
   ]
  },
  {
   "cell_type": "markdown",
   "metadata": {},
   "source": [
    "### 数据修改"
   ]
  },
  {
   "cell_type": "code",
   "execution_count": 103,
   "metadata": {},
   "outputs": [],
   "source": [
    "df2 = df.copy()"
   ]
  },
  {
   "cell_type": "code",
   "execution_count": 105,
   "metadata": {},
   "outputs": [],
   "source": [
    "s = pd.Series(list(range(10, 18)), index=pd.date_range(\"20191110\", periods=8))"
   ]
  },
  {
   "cell_type": "code",
   "execution_count": 106,
   "metadata": {},
   "outputs": [],
   "source": [
    "# add column \"F\"\n",
    "df2['F'] = s"
   ]
  },
  {
   "cell_type": "code",
   "execution_count": 107,
   "metadata": {},
   "outputs": [],
   "source": [
    "# convert all value to minus value\n",
    "df2[df2>0] = -df2"
   ]
  },
  {
   "cell_type": "code",
   "execution_count": 108,
   "metadata": {
    "scrolled": true
   },
   "outputs": [
    {
     "data": {
      "text/html": [
       "<div>\n",
       "<style scoped>\n",
       "    .dataframe tbody tr th:only-of-type {\n",
       "        vertical-align: middle;\n",
       "    }\n",
       "\n",
       "    .dataframe tbody tr th {\n",
       "        vertical-align: top;\n",
       "    }\n",
       "\n",
       "    .dataframe thead th {\n",
       "        text-align: right;\n",
       "    }\n",
       "</style>\n",
       "<table border=\"1\" class=\"dataframe\">\n",
       "  <thead>\n",
       "    <tr style=\"text-align: right;\">\n",
       "      <th></th>\n",
       "      <th>A</th>\n",
       "      <th>B</th>\n",
       "      <th>C</th>\n",
       "      <th>D</th>\n",
       "      <th>E</th>\n",
       "      <th>F</th>\n",
       "    </tr>\n",
       "  </thead>\n",
       "  <tbody>\n",
       "    <tr>\n",
       "      <th>2019-11-10</th>\n",
       "      <td>-0.612915</td>\n",
       "      <td>-0.151818</td>\n",
       "      <td>-0.122788</td>\n",
       "      <td>-1.149431</td>\n",
       "      <td>-0.550151</td>\n",
       "      <td>-10</td>\n",
       "    </tr>\n",
       "    <tr>\n",
       "      <th>2019-11-11</th>\n",
       "      <td>-0.003511</td>\n",
       "      <td>-0.009435</td>\n",
       "      <td>-1.517428</td>\n",
       "      <td>-1.066616</td>\n",
       "      <td>-0.229112</td>\n",
       "      <td>-11</td>\n",
       "    </tr>\n",
       "    <tr>\n",
       "      <th>2019-11-12</th>\n",
       "      <td>-1.136879</td>\n",
       "      <td>-0.981823</td>\n",
       "      <td>-0.069868</td>\n",
       "      <td>-0.327714</td>\n",
       "      <td>-0.197066</td>\n",
       "      <td>-12</td>\n",
       "    </tr>\n",
       "    <tr>\n",
       "      <th>2019-11-13</th>\n",
       "      <td>-0.995458</td>\n",
       "      <td>-0.514502</td>\n",
       "      <td>-0.777380</td>\n",
       "      <td>-0.833623</td>\n",
       "      <td>-1.252500</td>\n",
       "      <td>-13</td>\n",
       "    </tr>\n",
       "    <tr>\n",
       "      <th>2019-11-14</th>\n",
       "      <td>-1.951528</td>\n",
       "      <td>-0.102278</td>\n",
       "      <td>-0.271428</td>\n",
       "      <td>-1.299579</td>\n",
       "      <td>-0.564014</td>\n",
       "      <td>-14</td>\n",
       "    </tr>\n",
       "    <tr>\n",
       "      <th>2019-11-15</th>\n",
       "      <td>-0.553523</td>\n",
       "      <td>-0.077664</td>\n",
       "      <td>-0.264692</td>\n",
       "      <td>-0.216956</td>\n",
       "      <td>-1.101061</td>\n",
       "      <td>-15</td>\n",
       "    </tr>\n",
       "    <tr>\n",
       "      <th>2019-11-16</th>\n",
       "      <td>-0.084350</td>\n",
       "      <td>-0.724433</td>\n",
       "      <td>-1.072255</td>\n",
       "      <td>-1.696514</td>\n",
       "      <td>-0.126097</td>\n",
       "      <td>-16</td>\n",
       "    </tr>\n",
       "    <tr>\n",
       "      <th>2019-11-17</th>\n",
       "      <td>-0.868117</td>\n",
       "      <td>-0.637180</td>\n",
       "      <td>-0.152896</td>\n",
       "      <td>-0.221357</td>\n",
       "      <td>-0.397580</td>\n",
       "      <td>-17</td>\n",
       "    </tr>\n",
       "  </tbody>\n",
       "</table>\n",
       "</div>"
      ],
      "text/plain": [
       "                   A         B         C         D         E   F\n",
       "2019-11-10 -0.612915 -0.151818 -0.122788 -1.149431 -0.550151 -10\n",
       "2019-11-11 -0.003511 -0.009435 -1.517428 -1.066616 -0.229112 -11\n",
       "2019-11-12 -1.136879 -0.981823 -0.069868 -0.327714 -0.197066 -12\n",
       "2019-11-13 -0.995458 -0.514502 -0.777380 -0.833623 -1.252500 -13\n",
       "2019-11-14 -1.951528 -0.102278 -0.271428 -1.299579 -0.564014 -14\n",
       "2019-11-15 -0.553523 -0.077664 -0.264692 -0.216956 -1.101061 -15\n",
       "2019-11-16 -0.084350 -0.724433 -1.072255 -1.696514 -0.126097 -16\n",
       "2019-11-17 -0.868117 -0.637180 -0.152896 -0.221357 -0.397580 -17"
      ]
     },
     "execution_count": 108,
     "metadata": {},
     "output_type": "execute_result"
    }
   ],
   "source": [
    "df2"
   ]
  },
  {
   "cell_type": "markdown",
   "metadata": {},
   "source": [
    "## 三、缺失值处理\n",
    "- isnull()\n",
    "- notnull()\n",
    "- dropna()：丢弃异常值记录\n",
    "- fillna()：填充异常值"
   ]
  },
  {
   "cell_type": "code",
   "execution_count": 41,
   "metadata": {},
   "outputs": [],
   "source": [
    "df3 = df.copy()"
   ]
  },
  {
   "cell_type": "code",
   "execution_count": 42,
   "metadata": {},
   "outputs": [],
   "source": [
    "# column \"G\" default value NaN\n",
    "df3 = df3.reindex(index=dates[:4], columns=list(\"ABCD\"+\"G\"))"
   ]
  },
  {
   "cell_type": "code",
   "execution_count": 43,
   "metadata": {},
   "outputs": [],
   "source": [
    "# assign some value, left the others NaN\n",
    "df3.loc[dates[0]:dates[1], \"G\"] = 1"
   ]
  },
  {
   "cell_type": "markdown",
   "metadata": {},
   "source": [
    "### 找到缺失值的行\n",
    "- df[df.innull().T.any()]\n",
    "- df[df.isnull().values == True]"
   ]
  },
  {
   "cell_type": "code",
   "execution_count": 51,
   "metadata": {},
   "outputs": [
    {
     "data": {
      "text/html": [
       "<div>\n",
       "<style scoped>\n",
       "    .dataframe tbody tr th:only-of-type {\n",
       "        vertical-align: middle;\n",
       "    }\n",
       "\n",
       "    .dataframe tbody tr th {\n",
       "        vertical-align: top;\n",
       "    }\n",
       "\n",
       "    .dataframe thead th {\n",
       "        text-align: right;\n",
       "    }\n",
       "</style>\n",
       "<table border=\"1\" class=\"dataframe\">\n",
       "  <thead>\n",
       "    <tr style=\"text-align: right;\">\n",
       "      <th></th>\n",
       "      <th>A</th>\n",
       "      <th>B</th>\n",
       "      <th>C</th>\n",
       "      <th>D</th>\n",
       "      <th>G</th>\n",
       "    </tr>\n",
       "  </thead>\n",
       "  <tbody>\n",
       "    <tr>\n",
       "      <th>2019-11-12</th>\n",
       "      <td>0.397049</td>\n",
       "      <td>0.894878</td>\n",
       "      <td>-0.132510</td>\n",
       "      <td>-0.731802</td>\n",
       "      <td>NaN</td>\n",
       "    </tr>\n",
       "    <tr>\n",
       "      <th>2019-11-13</th>\n",
       "      <td>-2.065765</td>\n",
       "      <td>-0.856123</td>\n",
       "      <td>1.338124</td>\n",
       "      <td>-0.413188</td>\n",
       "      <td>NaN</td>\n",
       "    </tr>\n",
       "  </tbody>\n",
       "</table>\n",
       "</div>"
      ],
      "text/plain": [
       "                   A         B         C         D   G\n",
       "2019-11-12  0.397049  0.894878 -0.132510 -0.731802 NaN\n",
       "2019-11-13 -2.065765 -0.856123  1.338124 -0.413188 NaN"
      ]
     },
     "execution_count": 51,
     "metadata": {},
     "output_type": "execute_result"
    }
   ],
   "source": [
    "df3[df3.isnull().T.any()]"
   ]
  },
  {
   "cell_type": "code",
   "execution_count": 60,
   "metadata": {},
   "outputs": [
    {
     "data": {
      "text/html": [
       "<div>\n",
       "<style scoped>\n",
       "    .dataframe tbody tr th:only-of-type {\n",
       "        vertical-align: middle;\n",
       "    }\n",
       "\n",
       "    .dataframe tbody tr th {\n",
       "        vertical-align: top;\n",
       "    }\n",
       "\n",
       "    .dataframe thead th {\n",
       "        text-align: right;\n",
       "    }\n",
       "</style>\n",
       "<table border=\"1\" class=\"dataframe\">\n",
       "  <thead>\n",
       "    <tr style=\"text-align: right;\">\n",
       "      <th></th>\n",
       "      <th>A</th>\n",
       "      <th>B</th>\n",
       "      <th>C</th>\n",
       "      <th>D</th>\n",
       "      <th>G</th>\n",
       "    </tr>\n",
       "  </thead>\n",
       "  <tbody>\n",
       "    <tr>\n",
       "      <th>2019-11-12</th>\n",
       "      <td>0.397049</td>\n",
       "      <td>0.894878</td>\n",
       "      <td>-0.132510</td>\n",
       "      <td>-0.731802</td>\n",
       "      <td>NaN</td>\n",
       "    </tr>\n",
       "    <tr>\n",
       "      <th>2019-11-13</th>\n",
       "      <td>-2.065765</td>\n",
       "      <td>-0.856123</td>\n",
       "      <td>1.338124</td>\n",
       "      <td>-0.413188</td>\n",
       "      <td>NaN</td>\n",
       "    </tr>\n",
       "  </tbody>\n",
       "</table>\n",
       "</div>"
      ],
      "text/plain": [
       "                   A         B         C         D   G\n",
       "2019-11-12  0.397049  0.894878 -0.132510 -0.731802 NaN\n",
       "2019-11-13 -2.065765 -0.856123  1.338124 -0.413188 NaN"
      ]
     },
     "execution_count": 60,
     "metadata": {},
     "output_type": "execute_result"
    }
   ],
   "source": [
    "df3[df3.isnull().values == True]"
   ]
  },
  {
   "cell_type": "markdown",
   "metadata": {},
   "source": [
    "### 处理方法一：直接丢弃整条数据\n",
    "- dropna(how='all')：整行"
   ]
  },
  {
   "cell_type": "code",
   "execution_count": 49,
   "metadata": {},
   "outputs": [
    {
     "data": {
      "text/html": [
       "<div>\n",
       "<style scoped>\n",
       "    .dataframe tbody tr th:only-of-type {\n",
       "        vertical-align: middle;\n",
       "    }\n",
       "\n",
       "    .dataframe tbody tr th {\n",
       "        vertical-align: top;\n",
       "    }\n",
       "\n",
       "    .dataframe thead th {\n",
       "        text-align: right;\n",
       "    }\n",
       "</style>\n",
       "<table border=\"1\" class=\"dataframe\">\n",
       "  <thead>\n",
       "    <tr style=\"text-align: right;\">\n",
       "      <th></th>\n",
       "      <th>A</th>\n",
       "      <th>B</th>\n",
       "      <th>C</th>\n",
       "      <th>D</th>\n",
       "      <th>G</th>\n",
       "    </tr>\n",
       "  </thead>\n",
       "  <tbody>\n",
       "    <tr>\n",
       "      <th>2019-11-10</th>\n",
       "      <td>-0.427179</td>\n",
       "      <td>0.447543</td>\n",
       "      <td>0.479191</td>\n",
       "      <td>1.421268</td>\n",
       "      <td>1.0</td>\n",
       "    </tr>\n",
       "    <tr>\n",
       "      <th>2019-11-11</th>\n",
       "      <td>-0.092193</td>\n",
       "      <td>-0.296339</td>\n",
       "      <td>-0.986955</td>\n",
       "      <td>0.522672</td>\n",
       "      <td>1.0</td>\n",
       "    </tr>\n",
       "  </tbody>\n",
       "</table>\n",
       "</div>"
      ],
      "text/plain": [
       "                   A         B         C         D    G\n",
       "2019-11-10 -0.427179  0.447543  0.479191  1.421268  1.0\n",
       "2019-11-11 -0.092193 -0.296339 -0.986955  0.522672  1.0"
      ]
     },
     "execution_count": 49,
     "metadata": {},
     "output_type": "execute_result"
    }
   ],
   "source": [
    "# drop record(s) which contain(s) NaN\n",
    "df3.dropna()"
   ]
  },
  {
   "cell_type": "code",
   "execution_count": 50,
   "metadata": {},
   "outputs": [
    {
     "data": {
      "text/html": [
       "<div>\n",
       "<style scoped>\n",
       "    .dataframe tbody tr th:only-of-type {\n",
       "        vertical-align: middle;\n",
       "    }\n",
       "\n",
       "    .dataframe tbody tr th {\n",
       "        vertical-align: top;\n",
       "    }\n",
       "\n",
       "    .dataframe thead th {\n",
       "        text-align: right;\n",
       "    }\n",
       "</style>\n",
       "<table border=\"1\" class=\"dataframe\">\n",
       "  <thead>\n",
       "    <tr style=\"text-align: right;\">\n",
       "      <th></th>\n",
       "      <th>A</th>\n",
       "      <th>B</th>\n",
       "      <th>C</th>\n",
       "      <th>D</th>\n",
       "      <th>G</th>\n",
       "    </tr>\n",
       "  </thead>\n",
       "  <tbody>\n",
       "    <tr>\n",
       "      <th>2019-11-10</th>\n",
       "      <td>-0.427179</td>\n",
       "      <td>0.447543</td>\n",
       "      <td>0.479191</td>\n",
       "      <td>1.421268</td>\n",
       "      <td>1.0</td>\n",
       "    </tr>\n",
       "    <tr>\n",
       "      <th>2019-11-11</th>\n",
       "      <td>-0.092193</td>\n",
       "      <td>-0.296339</td>\n",
       "      <td>-0.986955</td>\n",
       "      <td>0.522672</td>\n",
       "      <td>1.0</td>\n",
       "    </tr>\n",
       "    <tr>\n",
       "      <th>2019-11-12</th>\n",
       "      <td>0.397049</td>\n",
       "      <td>0.894878</td>\n",
       "      <td>-0.132510</td>\n",
       "      <td>-0.731802</td>\n",
       "      <td>NaN</td>\n",
       "    </tr>\n",
       "    <tr>\n",
       "      <th>2019-11-13</th>\n",
       "      <td>-2.065765</td>\n",
       "      <td>-0.856123</td>\n",
       "      <td>1.338124</td>\n",
       "      <td>-0.413188</td>\n",
       "      <td>NaN</td>\n",
       "    </tr>\n",
       "  </tbody>\n",
       "</table>\n",
       "</div>"
      ],
      "text/plain": [
       "                   A         B         C         D    G\n",
       "2019-11-10 -0.427179  0.447543  0.479191  1.421268  1.0\n",
       "2019-11-11 -0.092193 -0.296339 -0.986955  0.522672  1.0\n",
       "2019-11-12  0.397049  0.894878 -0.132510 -0.731802  NaN\n",
       "2019-11-13 -2.065765 -0.856123  1.338124 -0.413188  NaN"
      ]
     },
     "execution_count": 50,
     "metadata": {},
     "output_type": "execute_result"
    }
   ],
   "source": [
    "# drop record(s) which all value(s) is/are NaN\n",
    "df3.dropna(how='all')"
   ]
  },
  {
   "cell_type": "markdown",
   "metadata": {},
   "source": [
    "### 处理方法二：按指定值处理\n",
    "- 按0值填充\n",
    "- method=\"ffile\"：按上一个值填充\n",
    "- method=\"bfile\"：按下一个值填充"
   ]
  },
  {
   "cell_type": "code",
   "execution_count": 130,
   "metadata": {},
   "outputs": [
    {
     "data": {
      "text/html": [
       "<div>\n",
       "<style scoped>\n",
       "    .dataframe tbody tr th:only-of-type {\n",
       "        vertical-align: middle;\n",
       "    }\n",
       "\n",
       "    .dataframe tbody tr th {\n",
       "        vertical-align: top;\n",
       "    }\n",
       "\n",
       "    .dataframe thead th {\n",
       "        text-align: right;\n",
       "    }\n",
       "</style>\n",
       "<table border=\"1\" class=\"dataframe\">\n",
       "  <thead>\n",
       "    <tr style=\"text-align: right;\">\n",
       "      <th></th>\n",
       "      <th>A</th>\n",
       "      <th>B</th>\n",
       "      <th>C</th>\n",
       "      <th>D</th>\n",
       "      <th>G</th>\n",
       "    </tr>\n",
       "  </thead>\n",
       "  <tbody>\n",
       "    <tr>\n",
       "      <th>2019-11-10</th>\n",
       "      <td>0.612915</td>\n",
       "      <td>0.151818</td>\n",
       "      <td>-0.122788</td>\n",
       "      <td>1.149431</td>\n",
       "      <td>1.0</td>\n",
       "    </tr>\n",
       "    <tr>\n",
       "      <th>2019-11-11</th>\n",
       "      <td>-0.003511</td>\n",
       "      <td>-0.009435</td>\n",
       "      <td>-1.517428</td>\n",
       "      <td>-1.066616</td>\n",
       "      <td>1.0</td>\n",
       "    </tr>\n",
       "    <tr>\n",
       "      <th>2019-11-12</th>\n",
       "      <td>-1.136879</td>\n",
       "      <td>0.981823</td>\n",
       "      <td>-0.069868</td>\n",
       "      <td>0.327714</td>\n",
       "      <td>0.0</td>\n",
       "    </tr>\n",
       "    <tr>\n",
       "      <th>2019-11-13</th>\n",
       "      <td>-0.995458</td>\n",
       "      <td>0.514502</td>\n",
       "      <td>0.777380</td>\n",
       "      <td>0.833623</td>\n",
       "      <td>0.0</td>\n",
       "    </tr>\n",
       "  </tbody>\n",
       "</table>\n",
       "</div>"
      ],
      "text/plain": [
       "                   A         B         C         D    G\n",
       "2019-11-10  0.612915  0.151818 -0.122788  1.149431  1.0\n",
       "2019-11-11 -0.003511 -0.009435 -1.517428 -1.066616  1.0\n",
       "2019-11-12 -1.136879  0.981823 -0.069868  0.327714  0.0\n",
       "2019-11-13 -0.995458  0.514502  0.777380  0.833623  0.0"
      ]
     },
     "execution_count": 130,
     "metadata": {},
     "output_type": "execute_result"
    }
   ],
   "source": [
    "# fill with default value\n",
    "df3.fillna(value=0)"
   ]
  },
  {
   "cell_type": "code",
   "execution_count": 47,
   "metadata": {},
   "outputs": [
    {
     "data": {
      "text/html": [
       "<div>\n",
       "<style scoped>\n",
       "    .dataframe tbody tr th:only-of-type {\n",
       "        vertical-align: middle;\n",
       "    }\n",
       "\n",
       "    .dataframe tbody tr th {\n",
       "        vertical-align: top;\n",
       "    }\n",
       "\n",
       "    .dataframe thead th {\n",
       "        text-align: right;\n",
       "    }\n",
       "</style>\n",
       "<table border=\"1\" class=\"dataframe\">\n",
       "  <thead>\n",
       "    <tr style=\"text-align: right;\">\n",
       "      <th></th>\n",
       "      <th>A</th>\n",
       "      <th>B</th>\n",
       "      <th>C</th>\n",
       "      <th>D</th>\n",
       "      <th>G</th>\n",
       "    </tr>\n",
       "  </thead>\n",
       "  <tbody>\n",
       "    <tr>\n",
       "      <th>2019-11-10</th>\n",
       "      <td>-0.427179</td>\n",
       "      <td>0.447543</td>\n",
       "      <td>0.479191</td>\n",
       "      <td>1.421268</td>\n",
       "      <td>1.0</td>\n",
       "    </tr>\n",
       "    <tr>\n",
       "      <th>2019-11-11</th>\n",
       "      <td>-0.092193</td>\n",
       "      <td>-0.296339</td>\n",
       "      <td>-0.986955</td>\n",
       "      <td>0.522672</td>\n",
       "      <td>1.0</td>\n",
       "    </tr>\n",
       "    <tr>\n",
       "      <th>2019-11-12</th>\n",
       "      <td>0.397049</td>\n",
       "      <td>0.894878</td>\n",
       "      <td>-0.132510</td>\n",
       "      <td>-0.731802</td>\n",
       "      <td>1.0</td>\n",
       "    </tr>\n",
       "    <tr>\n",
       "      <th>2019-11-13</th>\n",
       "      <td>-2.065765</td>\n",
       "      <td>-0.856123</td>\n",
       "      <td>1.338124</td>\n",
       "      <td>-0.413188</td>\n",
       "      <td>1.0</td>\n",
       "    </tr>\n",
       "  </tbody>\n",
       "</table>\n",
       "</div>"
      ],
      "text/plain": [
       "                   A         B         C         D    G\n",
       "2019-11-10 -0.427179  0.447543  0.479191  1.421268  1.0\n",
       "2019-11-11 -0.092193 -0.296339 -0.986955  0.522672  1.0\n",
       "2019-11-12  0.397049  0.894878 -0.132510 -0.731802  1.0\n",
       "2019-11-13 -2.065765 -0.856123  1.338124 -0.413188  1.0"
      ]
     },
     "execution_count": 47,
     "metadata": {},
     "output_type": "execute_result"
    }
   ],
   "source": [
    "# fill with previous value\n",
    "df3.fillna(method='ffill')"
   ]
  },
  {
   "cell_type": "code",
   "execution_count": 48,
   "metadata": {},
   "outputs": [
    {
     "data": {
      "text/html": [
       "<div>\n",
       "<style scoped>\n",
       "    .dataframe tbody tr th:only-of-type {\n",
       "        vertical-align: middle;\n",
       "    }\n",
       "\n",
       "    .dataframe tbody tr th {\n",
       "        vertical-align: top;\n",
       "    }\n",
       "\n",
       "    .dataframe thead th {\n",
       "        text-align: right;\n",
       "    }\n",
       "</style>\n",
       "<table border=\"1\" class=\"dataframe\">\n",
       "  <thead>\n",
       "    <tr style=\"text-align: right;\">\n",
       "      <th></th>\n",
       "      <th>A</th>\n",
       "      <th>B</th>\n",
       "      <th>C</th>\n",
       "      <th>D</th>\n",
       "      <th>G</th>\n",
       "    </tr>\n",
       "  </thead>\n",
       "  <tbody>\n",
       "    <tr>\n",
       "      <th>2019-11-10</th>\n",
       "      <td>-0.427179</td>\n",
       "      <td>0.447543</td>\n",
       "      <td>0.479191</td>\n",
       "      <td>1.421268</td>\n",
       "      <td>1.0</td>\n",
       "    </tr>\n",
       "    <tr>\n",
       "      <th>2019-11-11</th>\n",
       "      <td>-0.092193</td>\n",
       "      <td>-0.296339</td>\n",
       "      <td>-0.986955</td>\n",
       "      <td>0.522672</td>\n",
       "      <td>1.0</td>\n",
       "    </tr>\n",
       "    <tr>\n",
       "      <th>2019-11-12</th>\n",
       "      <td>0.397049</td>\n",
       "      <td>0.894878</td>\n",
       "      <td>-0.132510</td>\n",
       "      <td>-0.731802</td>\n",
       "      <td>NaN</td>\n",
       "    </tr>\n",
       "    <tr>\n",
       "      <th>2019-11-13</th>\n",
       "      <td>-2.065765</td>\n",
       "      <td>-0.856123</td>\n",
       "      <td>1.338124</td>\n",
       "      <td>-0.413188</td>\n",
       "      <td>NaN</td>\n",
       "    </tr>\n",
       "  </tbody>\n",
       "</table>\n",
       "</div>"
      ],
      "text/plain": [
       "                   A         B         C         D    G\n",
       "2019-11-10 -0.427179  0.447543  0.479191  1.421268  1.0\n",
       "2019-11-11 -0.092193 -0.296339 -0.986955  0.522672  1.0\n",
       "2019-11-12  0.397049  0.894878 -0.132510 -0.731802  NaN\n",
       "2019-11-13 -2.065765 -0.856123  1.338124 -0.413188  NaN"
      ]
     },
     "execution_count": 48,
     "metadata": {},
     "output_type": "execute_result"
    }
   ],
   "source": [
    "# fill with next value\n",
    "df3.fillna(method='bfill')"
   ]
  },
  {
   "cell_type": "markdown",
   "metadata": {},
   "source": [
    "### 处理方法三：插值\n",
    "参考data-analysis-03-scipy"
   ]
  },
  {
   "cell_type": "markdown",
   "metadata": {},
   "source": [
    "## 四、数据整合与统计"
   ]
  },
  {
   "cell_type": "code",
   "execution_count": 71,
   "metadata": {},
   "outputs": [],
   "source": [
    "df3 = df.copy()"
   ]
  },
  {
   "cell_type": "markdown",
   "metadata": {},
   "source": [
    "### 均值"
   ]
  },
  {
   "cell_type": "code",
   "execution_count": 134,
   "metadata": {},
   "outputs": [
    {
     "data": {
      "text/plain": [
       "A     0.082355\n",
       "B     0.397533\n",
       "C    -0.000826\n",
       "D     0.106452\n",
       "E    -0.177196\n",
       "F    13.500000\n",
       "dtype: float64"
      ]
     },
     "execution_count": 134,
     "metadata": {},
     "output_type": "execute_result"
    }
   ],
   "source": [
    "# column mean value of each column\n",
    "df3.mean()"
   ]
  },
  {
   "cell_type": "code",
   "execution_count": 72,
   "metadata": {},
   "outputs": [
    {
     "data": {
      "text/plain": [
       "2019-11-10    0.229489\n",
       "2019-11-11   -0.176286\n",
       "2019-11-12    0.080110\n",
       "2019-11-13   -0.566401\n",
       "2019-11-14    0.436370\n",
       "2019-11-15    0.473355\n",
       "2019-11-16   -0.227296\n",
       "2019-11-17    0.407703\n",
       "Freq: D, dtype: float64"
      ]
     },
     "execution_count": 72,
     "metadata": {},
     "output_type": "execute_result"
    }
   ],
   "source": [
    "# mean value of all cell(s)\n",
    "df3.mean(axis=1)"
   ]
  },
  {
   "cell_type": "markdown",
   "metadata": {},
   "source": [
    "### 方差"
   ]
  },
  {
   "cell_type": "code",
   "execution_count": 136,
   "metadata": {},
   "outputs": [
    {
     "data": {
      "text/plain": [
       "A    1.068634\n",
       "B    0.133552\n",
       "C    0.606243\n",
       "D    1.119095\n",
       "E    0.487997\n",
       "F    6.000000\n",
       "dtype: float64"
      ]
     },
     "execution_count": 136,
     "metadata": {},
     "output_type": "execute_result"
    }
   ],
   "source": [
    "df3.var()"
   ]
  },
  {
   "cell_type": "code",
   "execution_count": 137,
   "metadata": {},
   "outputs": [
    {
     "data": {
      "text/plain": [
       "2019-11-10    15.330420\n",
       "2019-11-11    22.414786\n",
       "2019-11-12    24.238635\n",
       "2019-11-13    29.097024\n",
       "2019-11-14    30.677560\n",
       "2019-11-15    39.745688\n",
       "2019-11-16    43.429755\n",
       "2019-11-17    46.080959\n",
       "Freq: D, dtype: float64"
      ]
     },
     "execution_count": 137,
     "metadata": {},
     "output_type": "execute_result"
    }
   ],
   "source": [
    "df3.var(axis=1)"
   ]
  },
  {
   "cell_type": "code",
   "execution_count": 73,
   "metadata": {},
   "outputs": [
    {
     "data": {
      "text/plain": [
       "2019-11-10     1.0\n",
       "2019-11-11     2.0\n",
       "2019-11-12     4.0\n",
       "2019-11-13     NaN\n",
       "2019-11-14     5.0\n",
       "2019-11-15     7.0\n",
       "2019-11-16     9.0\n",
       "2019-11-17    10.0\n",
       "Freq: D, dtype: float64"
      ]
     },
     "execution_count": 73,
     "metadata": {},
     "output_type": "execute_result"
    }
   ],
   "source": [
    "dates3 = pd.date_range('20191110', periods=8)\n",
    "pd.Series([1, 2, 4, np.nan, 5, 7, 9, 10], index=dates)"
   ]
  },
  {
   "cell_type": "markdown",
   "metadata": {},
   "source": [
    "### shift数值移位"
   ]
  },
  {
   "cell_type": "code",
   "execution_count": 143,
   "metadata": {},
   "outputs": [
    {
     "data": {
      "text/plain": [
       "2019-11-10    NaN\n",
       "2019-11-11    NaN\n",
       "2019-11-12    1.0\n",
       "2019-11-13    2.0\n",
       "2019-11-14    4.0\n",
       "2019-11-15    NaN\n",
       "2019-11-16    5.0\n",
       "2019-11-17    7.0\n",
       "Freq: D, dtype: float64"
      ]
     },
     "execution_count": 143,
     "metadata": {},
     "output_type": "execute_result"
    }
   ],
   "source": [
    "# insert NaN from beginning\n",
    "s3.shift(2)"
   ]
  },
  {
   "cell_type": "markdown",
   "metadata": {},
   "source": [
    "### diff队列差值"
   ]
  },
  {
   "cell_type": "code",
   "execution_count": 144,
   "metadata": {},
   "outputs": [
    {
     "data": {
      "text/plain": [
       "2019-11-10    NaN\n",
       "2019-11-11    1.0\n",
       "2019-11-12    2.0\n",
       "2019-11-13    NaN\n",
       "2019-11-14    NaN\n",
       "2019-11-15    2.0\n",
       "2019-11-16    2.0\n",
       "2019-11-17    1.0\n",
       "Freq: D, dtype: float64"
      ]
     },
     "execution_count": 144,
     "metadata": {},
     "output_type": "execute_result"
    }
   ],
   "source": [
    "s3.diff()"
   ]
  },
  {
   "cell_type": "markdown",
   "metadata": {},
   "source": [
    "### value_counts值出现的次数\n",
    "- 可以用来汇制直方图"
   ]
  },
  {
   "cell_type": "code",
   "execution_count": 148,
   "metadata": {},
   "outputs": [
    {
     "data": {
      "text/plain": [
       "10.0    1\n",
       "9.0     1\n",
       "7.0     1\n",
       "5.0     1\n",
       "4.0     1\n",
       "2.0     1\n",
       "1.0     1\n",
       "dtype: int64"
      ]
     },
     "execution_count": 148,
     "metadata": {},
     "output_type": "execute_result"
    }
   ],
   "source": [
    "s3.value_counts()"
   ]
  },
  {
   "cell_type": "markdown",
   "metadata": {},
   "source": [
    "### apply应用函数"
   ]
  },
  {
   "cell_type": "code",
   "execution_count": 149,
   "metadata": {},
   "outputs": [
    {
     "data": {
      "text/html": [
       "<div>\n",
       "<style scoped>\n",
       "    .dataframe tbody tr th:only-of-type {\n",
       "        vertical-align: middle;\n",
       "    }\n",
       "\n",
       "    .dataframe tbody tr th {\n",
       "        vertical-align: top;\n",
       "    }\n",
       "\n",
       "    .dataframe thead th {\n",
       "        text-align: right;\n",
       "    }\n",
       "</style>\n",
       "<table border=\"1\" class=\"dataframe\">\n",
       "  <thead>\n",
       "    <tr style=\"text-align: right;\">\n",
       "      <th></th>\n",
       "      <th>A</th>\n",
       "      <th>B</th>\n",
       "      <th>C</th>\n",
       "      <th>D</th>\n",
       "      <th>E</th>\n",
       "      <th>F</th>\n",
       "    </tr>\n",
       "  </thead>\n",
       "  <tbody>\n",
       "    <tr>\n",
       "      <th>2019-11-10</th>\n",
       "      <td>0.612915</td>\n",
       "      <td>0.151818</td>\n",
       "      <td>-0.122788</td>\n",
       "      <td>1.149431</td>\n",
       "      <td>0.550151</td>\n",
       "      <td>10</td>\n",
       "    </tr>\n",
       "    <tr>\n",
       "      <th>2019-11-11</th>\n",
       "      <td>0.609404</td>\n",
       "      <td>0.142383</td>\n",
       "      <td>-1.640216</td>\n",
       "      <td>0.082815</td>\n",
       "      <td>0.779263</td>\n",
       "      <td>21</td>\n",
       "    </tr>\n",
       "    <tr>\n",
       "      <th>2019-11-12</th>\n",
       "      <td>-0.527475</td>\n",
       "      <td>1.124206</td>\n",
       "      <td>-1.710084</td>\n",
       "      <td>0.410528</td>\n",
       "      <td>0.976329</td>\n",
       "      <td>33</td>\n",
       "    </tr>\n",
       "    <tr>\n",
       "      <th>2019-11-13</th>\n",
       "      <td>-1.522933</td>\n",
       "      <td>1.638708</td>\n",
       "      <td>-0.932705</td>\n",
       "      <td>1.244151</td>\n",
       "      <td>-0.276171</td>\n",
       "      <td>46</td>\n",
       "    </tr>\n",
       "    <tr>\n",
       "      <th>2019-11-14</th>\n",
       "      <td>0.428595</td>\n",
       "      <td>1.740986</td>\n",
       "      <td>-0.661276</td>\n",
       "      <td>2.543730</td>\n",
       "      <td>-0.840185</td>\n",
       "      <td>60</td>\n",
       "    </tr>\n",
       "    <tr>\n",
       "      <th>2019-11-15</th>\n",
       "      <td>-0.124928</td>\n",
       "      <td>1.818649</td>\n",
       "      <td>-0.925968</td>\n",
       "      <td>2.326775</td>\n",
       "      <td>-1.941246</td>\n",
       "      <td>75</td>\n",
       "    </tr>\n",
       "    <tr>\n",
       "      <th>2019-11-16</th>\n",
       "      <td>-0.209278</td>\n",
       "      <td>2.543082</td>\n",
       "      <td>0.146287</td>\n",
       "      <td>0.630261</td>\n",
       "      <td>-1.815149</td>\n",
       "      <td>91</td>\n",
       "    </tr>\n",
       "    <tr>\n",
       "      <th>2019-11-17</th>\n",
       "      <td>0.658839</td>\n",
       "      <td>3.180262</td>\n",
       "      <td>-0.006609</td>\n",
       "      <td>0.851617</td>\n",
       "      <td>-1.417569</td>\n",
       "      <td>108</td>\n",
       "    </tr>\n",
       "  </tbody>\n",
       "</table>\n",
       "</div>"
      ],
      "text/plain": [
       "                   A         B         C         D         E    F\n",
       "2019-11-10  0.612915  0.151818 -0.122788  1.149431  0.550151   10\n",
       "2019-11-11  0.609404  0.142383 -1.640216  0.082815  0.779263   21\n",
       "2019-11-12 -0.527475  1.124206 -1.710084  0.410528  0.976329   33\n",
       "2019-11-13 -1.522933  1.638708 -0.932705  1.244151 -0.276171   46\n",
       "2019-11-14  0.428595  1.740986 -0.661276  2.543730 -0.840185   60\n",
       "2019-11-15 -0.124928  1.818649 -0.925968  2.326775 -1.941246   75\n",
       "2019-11-16 -0.209278  2.543082  0.146287  0.630261 -1.815149   91\n",
       "2019-11-17  0.658839  3.180262 -0.006609  0.851617 -1.417569  108"
      ]
     },
     "execution_count": 149,
     "metadata": {},
     "output_type": "execute_result"
    }
   ],
   "source": [
    "# value as sum(i-1, i)\n",
    "df3.apply(np.cumsum)"
   ]
  },
  {
   "cell_type": "code",
   "execution_count": 152,
   "metadata": {},
   "outputs": [
    {
     "data": {
      "text/plain": [
       "A    3.088407\n",
       "B    0.991258\n",
       "C    2.589683\n",
       "D    2.996093\n",
       "E    1.802651\n",
       "F    7.000000\n",
       "dtype: float64"
      ]
     },
     "execution_count": 152,
     "metadata": {},
     "output_type": "execute_result"
    }
   ],
   "source": [
    "# value of max()-min()\n",
    "df3.apply(lambda x: x.max() - x.min())"
   ]
  },
  {
   "cell_type": "markdown",
   "metadata": {},
   "source": [
    "### 批量应用函数\n",
    "- appllymap()\n",
    "- round()"
   ]
  },
  {
   "cell_type": "code",
   "execution_count": 75,
   "metadata": {},
   "outputs": [
    {
     "data": {
      "text/html": [
       "<div>\n",
       "<style scoped>\n",
       "    .dataframe tbody tr th:only-of-type {\n",
       "        vertical-align: middle;\n",
       "    }\n",
       "\n",
       "    .dataframe tbody tr th {\n",
       "        vertical-align: top;\n",
       "    }\n",
       "\n",
       "    .dataframe thead th {\n",
       "        text-align: right;\n",
       "    }\n",
       "</style>\n",
       "<table border=\"1\" class=\"dataframe\">\n",
       "  <thead>\n",
       "    <tr style=\"text-align: right;\">\n",
       "      <th></th>\n",
       "      <th>A</th>\n",
       "      <th>B</th>\n",
       "      <th>C</th>\n",
       "      <th>D</th>\n",
       "      <th>E</th>\n",
       "    </tr>\n",
       "  </thead>\n",
       "  <tbody>\n",
       "    <tr>\n",
       "      <th>2019-11-10</th>\n",
       "      <td>-0.43</td>\n",
       "      <td>0.45</td>\n",
       "      <td>0.48</td>\n",
       "      <td>1.42</td>\n",
       "      <td>-0.77</td>\n",
       "    </tr>\n",
       "    <tr>\n",
       "      <th>2019-11-11</th>\n",
       "      <td>-0.09</td>\n",
       "      <td>-0.30</td>\n",
       "      <td>-0.99</td>\n",
       "      <td>0.52</td>\n",
       "      <td>-0.03</td>\n",
       "    </tr>\n",
       "    <tr>\n",
       "      <th>2019-11-12</th>\n",
       "      <td>0.40</td>\n",
       "      <td>0.89</td>\n",
       "      <td>-0.13</td>\n",
       "      <td>-0.73</td>\n",
       "      <td>-0.03</td>\n",
       "    </tr>\n",
       "    <tr>\n",
       "      <th>2019-11-13</th>\n",
       "      <td>-2.07</td>\n",
       "      <td>-0.86</td>\n",
       "      <td>1.34</td>\n",
       "      <td>-0.41</td>\n",
       "      <td>-0.84</td>\n",
       "    </tr>\n",
       "    <tr>\n",
       "      <th>2019-11-14</th>\n",
       "      <td>0.98</td>\n",
       "      <td>0.24</td>\n",
       "      <td>1.06</td>\n",
       "      <td>-0.49</td>\n",
       "      <td>0.39</td>\n",
       "    </tr>\n",
       "    <tr>\n",
       "      <th>2019-11-15</th>\n",
       "      <td>0.35</td>\n",
       "      <td>-0.37</td>\n",
       "      <td>1.25</td>\n",
       "      <td>0.47</td>\n",
       "      <td>0.66</td>\n",
       "    </tr>\n",
       "    <tr>\n",
       "      <th>2019-11-16</th>\n",
       "      <td>1.25</td>\n",
       "      <td>-1.30</td>\n",
       "      <td>-0.55</td>\n",
       "      <td>0.80</td>\n",
       "      <td>-1.34</td>\n",
       "    </tr>\n",
       "    <tr>\n",
       "      <th>2019-11-17</th>\n",
       "      <td>0.46</td>\n",
       "      <td>-0.28</td>\n",
       "      <td>1.37</td>\n",
       "      <td>-0.46</td>\n",
       "      <td>0.94</td>\n",
       "    </tr>\n",
       "  </tbody>\n",
       "</table>\n",
       "</div>"
      ],
      "text/plain": [
       "                A      B      C      D      E\n",
       "2019-11-10  -0.43   0.45   0.48   1.42  -0.77\n",
       "2019-11-11  -0.09  -0.30  -0.99   0.52  -0.03\n",
       "2019-11-12   0.40   0.89  -0.13  -0.73  -0.03\n",
       "2019-11-13  -2.07  -0.86   1.34  -0.41  -0.84\n",
       "2019-11-14   0.98   0.24   1.06  -0.49   0.39\n",
       "2019-11-15   0.35  -0.37   1.25   0.47   0.66\n",
       "2019-11-16   1.25  -1.30  -0.55   0.80  -1.34\n",
       "2019-11-17   0.46  -0.28   1.37  -0.46   0.94"
      ]
     },
     "execution_count": 75,
     "metadata": {},
     "output_type": "execute_result"
    }
   ],
   "source": [
    "# format value of all cell(s)\n",
    "df3.applymap(lambda x: '%.2f' % x)"
   ]
  },
  {
   "cell_type": "code",
   "execution_count": 74,
   "metadata": {},
   "outputs": [
    {
     "data": {
      "text/html": [
       "<div>\n",
       "<style scoped>\n",
       "    .dataframe tbody tr th:only-of-type {\n",
       "        vertical-align: middle;\n",
       "    }\n",
       "\n",
       "    .dataframe tbody tr th {\n",
       "        vertical-align: top;\n",
       "    }\n",
       "\n",
       "    .dataframe thead th {\n",
       "        text-align: right;\n",
       "    }\n",
       "</style>\n",
       "<table border=\"1\" class=\"dataframe\">\n",
       "  <thead>\n",
       "    <tr style=\"text-align: right;\">\n",
       "      <th></th>\n",
       "      <th>A</th>\n",
       "      <th>B</th>\n",
       "      <th>C</th>\n",
       "      <th>D</th>\n",
       "      <th>E</th>\n",
       "    </tr>\n",
       "  </thead>\n",
       "  <tbody>\n",
       "    <tr>\n",
       "      <th>2019-11-10</th>\n",
       "      <td>-0.43</td>\n",
       "      <td>0.45</td>\n",
       "      <td>0.48</td>\n",
       "      <td>1.42</td>\n",
       "      <td>-0.77</td>\n",
       "    </tr>\n",
       "    <tr>\n",
       "      <th>2019-11-11</th>\n",
       "      <td>-0.09</td>\n",
       "      <td>-0.30</td>\n",
       "      <td>-0.99</td>\n",
       "      <td>0.52</td>\n",
       "      <td>-0.03</td>\n",
       "    </tr>\n",
       "    <tr>\n",
       "      <th>2019-11-12</th>\n",
       "      <td>0.40</td>\n",
       "      <td>0.89</td>\n",
       "      <td>-0.13</td>\n",
       "      <td>-0.73</td>\n",
       "      <td>-0.03</td>\n",
       "    </tr>\n",
       "    <tr>\n",
       "      <th>2019-11-13</th>\n",
       "      <td>-2.07</td>\n",
       "      <td>-0.86</td>\n",
       "      <td>1.34</td>\n",
       "      <td>-0.41</td>\n",
       "      <td>-0.84</td>\n",
       "    </tr>\n",
       "    <tr>\n",
       "      <th>2019-11-14</th>\n",
       "      <td>0.98</td>\n",
       "      <td>0.24</td>\n",
       "      <td>1.06</td>\n",
       "      <td>-0.49</td>\n",
       "      <td>0.39</td>\n",
       "    </tr>\n",
       "    <tr>\n",
       "      <th>2019-11-15</th>\n",
       "      <td>0.35</td>\n",
       "      <td>-0.37</td>\n",
       "      <td>1.25</td>\n",
       "      <td>0.47</td>\n",
       "      <td>0.66</td>\n",
       "    </tr>\n",
       "    <tr>\n",
       "      <th>2019-11-16</th>\n",
       "      <td>1.25</td>\n",
       "      <td>-1.30</td>\n",
       "      <td>-0.55</td>\n",
       "      <td>0.80</td>\n",
       "      <td>-1.34</td>\n",
       "    </tr>\n",
       "    <tr>\n",
       "      <th>2019-11-17</th>\n",
       "      <td>0.46</td>\n",
       "      <td>-0.28</td>\n",
       "      <td>1.37</td>\n",
       "      <td>-0.46</td>\n",
       "      <td>0.94</td>\n",
       "    </tr>\n",
       "  </tbody>\n",
       "</table>\n",
       "</div>"
      ],
      "text/plain": [
       "               A     B     C     D     E\n",
       "2019-11-10 -0.43  0.45  0.48  1.42 -0.77\n",
       "2019-11-11 -0.09 -0.30 -0.99  0.52 -0.03\n",
       "2019-11-12  0.40  0.89 -0.13 -0.73 -0.03\n",
       "2019-11-13 -2.07 -0.86  1.34 -0.41 -0.84\n",
       "2019-11-14  0.98  0.24  1.06 -0.49  0.39\n",
       "2019-11-15  0.35 -0.37  1.25  0.47  0.66\n",
       "2019-11-16  1.25 -1.30 -0.55  0.80 -1.34\n",
       "2019-11-17  0.46 -0.28  1.37 -0.46  0.94"
      ]
     },
     "execution_count": 74,
     "metadata": {},
     "output_type": "execute_result"
    }
   ],
   "source": [
    "# format value of all cell(s), using round()\n",
    "df3.round(2)"
   ]
  },
  {
   "cell_type": "code",
   "execution_count": 87,
   "metadata": {},
   "outputs": [],
   "source": [
    "# convert Column-E to integer\n",
    "df3.E = df3.E.astype(int)"
   ]
  },
  {
   "cell_type": "code",
   "execution_count": 82,
   "metadata": {},
   "outputs": [
    {
     "data": {
      "text/html": [
       "<div>\n",
       "<style scoped>\n",
       "    .dataframe tbody tr th:only-of-type {\n",
       "        vertical-align: middle;\n",
       "    }\n",
       "\n",
       "    .dataframe tbody tr th {\n",
       "        vertical-align: top;\n",
       "    }\n",
       "\n",
       "    .dataframe thead th {\n",
       "        text-align: right;\n",
       "    }\n",
       "</style>\n",
       "<table border=\"1\" class=\"dataframe\">\n",
       "  <thead>\n",
       "    <tr style=\"text-align: right;\">\n",
       "      <th></th>\n",
       "      <th>A</th>\n",
       "      <th>B</th>\n",
       "      <th>C</th>\n",
       "      <th>D</th>\n",
       "      <th>E</th>\n",
       "    </tr>\n",
       "  </thead>\n",
       "  <tbody>\n",
       "    <tr>\n",
       "      <th>2019-11-10</th>\n",
       "      <td>-0.427179</td>\n",
       "      <td>0.447543</td>\n",
       "      <td>0.479191</td>\n",
       "      <td>1.421268</td>\n",
       "      <td>0</td>\n",
       "    </tr>\n",
       "    <tr>\n",
       "      <th>2019-11-11</th>\n",
       "      <td>-0.092193</td>\n",
       "      <td>-0.296339</td>\n",
       "      <td>-0.986955</td>\n",
       "      <td>0.522672</td>\n",
       "      <td>0</td>\n",
       "    </tr>\n",
       "    <tr>\n",
       "      <th>2019-11-12</th>\n",
       "      <td>0.397049</td>\n",
       "      <td>0.894878</td>\n",
       "      <td>-0.132510</td>\n",
       "      <td>-0.731802</td>\n",
       "      <td>0</td>\n",
       "    </tr>\n",
       "    <tr>\n",
       "      <th>2019-11-13</th>\n",
       "      <td>-2.065765</td>\n",
       "      <td>-0.856123</td>\n",
       "      <td>1.338124</td>\n",
       "      <td>-0.413188</td>\n",
       "      <td>0</td>\n",
       "    </tr>\n",
       "    <tr>\n",
       "      <th>2019-11-14</th>\n",
       "      <td>0.981340</td>\n",
       "      <td>0.238721</td>\n",
       "      <td>1.063623</td>\n",
       "      <td>-0.489283</td>\n",
       "      <td>0</td>\n",
       "    </tr>\n",
       "    <tr>\n",
       "      <th>2019-11-15</th>\n",
       "      <td>0.352781</td>\n",
       "      <td>-0.365330</td>\n",
       "      <td>1.250120</td>\n",
       "      <td>0.473826</td>\n",
       "      <td>0</td>\n",
       "    </tr>\n",
       "    <tr>\n",
       "      <th>2019-11-17</th>\n",
       "      <td>0.464360</td>\n",
       "      <td>-0.281835</td>\n",
       "      <td>1.374171</td>\n",
       "      <td>-0.457668</td>\n",
       "      <td>0</td>\n",
       "    </tr>\n",
       "  </tbody>\n",
       "</table>\n",
       "</div>"
      ],
      "text/plain": [
       "                   A         B         C         D  E\n",
       "2019-11-10 -0.427179  0.447543  0.479191  1.421268  0\n",
       "2019-11-11 -0.092193 -0.296339 -0.986955  0.522672  0\n",
       "2019-11-12  0.397049  0.894878 -0.132510 -0.731802  0\n",
       "2019-11-13 -2.065765 -0.856123  1.338124 -0.413188  0\n",
       "2019-11-14  0.981340  0.238721  1.063623 -0.489283  0\n",
       "2019-11-15  0.352781 -0.365330  1.250120  0.473826  0\n",
       "2019-11-17  0.464360 -0.281835  1.374171 -0.457668  0"
      ]
     },
     "execution_count": 82,
     "metadata": {},
     "output_type": "execute_result"
    }
   ],
   "source": [
    "# find all lines with value 0\n",
    "df3[df3.values == 0]"
   ]
  },
  {
   "cell_type": "markdown",
   "metadata": {},
   "source": [
    "### 表格拼接与类SQL操作"
   ]
  },
  {
   "cell_type": "markdown",
   "metadata": {},
   "source": [
    "#### concat拼接"
   ]
  },
  {
   "cell_type": "code",
   "execution_count": 154,
   "metadata": {},
   "outputs": [],
   "source": [
    "df4 = df.copy()"
   ]
  },
  {
   "cell_type": "code",
   "execution_count": 155,
   "metadata": {},
   "outputs": [
    {
     "data": {
      "text/html": [
       "<div>\n",
       "<style scoped>\n",
       "    .dataframe tbody tr th:only-of-type {\n",
       "        vertical-align: middle;\n",
       "    }\n",
       "\n",
       "    .dataframe tbody tr th {\n",
       "        vertical-align: top;\n",
       "    }\n",
       "\n",
       "    .dataframe thead th {\n",
       "        text-align: right;\n",
       "    }\n",
       "</style>\n",
       "<table border=\"1\" class=\"dataframe\">\n",
       "  <thead>\n",
       "    <tr style=\"text-align: right;\">\n",
       "      <th></th>\n",
       "      <th>A</th>\n",
       "      <th>B</th>\n",
       "      <th>C</th>\n",
       "      <th>D</th>\n",
       "      <th>E</th>\n",
       "      <th>F</th>\n",
       "    </tr>\n",
       "  </thead>\n",
       "  <tbody>\n",
       "    <tr>\n",
       "      <th>2019-11-10</th>\n",
       "      <td>0.612915</td>\n",
       "      <td>0.151818</td>\n",
       "      <td>-0.122788</td>\n",
       "      <td>1.149431</td>\n",
       "      <td>0.550151</td>\n",
       "      <td>10</td>\n",
       "    </tr>\n",
       "    <tr>\n",
       "      <th>2019-11-11</th>\n",
       "      <td>-0.003511</td>\n",
       "      <td>-0.009435</td>\n",
       "      <td>-1.517428</td>\n",
       "      <td>-1.066616</td>\n",
       "      <td>0.229112</td>\n",
       "      <td>11</td>\n",
       "    </tr>\n",
       "    <tr>\n",
       "      <th>2019-11-17</th>\n",
       "      <td>0.868117</td>\n",
       "      <td>0.637180</td>\n",
       "      <td>-0.152896</td>\n",
       "      <td>0.221357</td>\n",
       "      <td>0.397580</td>\n",
       "      <td>17</td>\n",
       "    </tr>\n",
       "  </tbody>\n",
       "</table>\n",
       "</div>"
      ],
      "text/plain": [
       "                   A         B         C         D         E   F\n",
       "2019-11-10  0.612915  0.151818 -0.122788  1.149431  0.550151  10\n",
       "2019-11-11 -0.003511 -0.009435 -1.517428 -1.066616  0.229112  11\n",
       "2019-11-17  0.868117  0.637180 -0.152896  0.221357  0.397580  17"
      ]
     },
     "execution_count": 155,
     "metadata": {},
     "output_type": "execute_result"
    }
   ],
   "source": [
    "# concat as new pd.df\n",
    "slices = [df4[:2], df4[-1:]]\n",
    "pd.concat(slices)"
   ]
  },
  {
   "cell_type": "markdown",
   "metadata": {},
   "source": [
    "#### pd.merge()合并"
   ]
  },
  {
   "cell_type": "code",
   "execution_count": 156,
   "metadata": {},
   "outputs": [],
   "source": [
    "a = pd.DataFrame({\"key\": [\"X\", \"Y\"], \"value\": [1, 2]})\n",
    "b = pd.DataFrame({\"key\": [\"X\", \"Z\"], \"value\": [3, 4]})"
   ]
  },
  {
   "cell_type": "code",
   "execution_count": 157,
   "metadata": {},
   "outputs": [
    {
     "data": {
      "text/html": [
       "<div>\n",
       "<style scoped>\n",
       "    .dataframe tbody tr th:only-of-type {\n",
       "        vertical-align: middle;\n",
       "    }\n",
       "\n",
       "    .dataframe tbody tr th {\n",
       "        vertical-align: top;\n",
       "    }\n",
       "\n",
       "    .dataframe thead th {\n",
       "        text-align: right;\n",
       "    }\n",
       "</style>\n",
       "<table border=\"1\" class=\"dataframe\">\n",
       "  <thead>\n",
       "    <tr style=\"text-align: right;\">\n",
       "      <th></th>\n",
       "      <th>key</th>\n",
       "      <th>value_x</th>\n",
       "      <th>value_y</th>\n",
       "    </tr>\n",
       "  </thead>\n",
       "  <tbody>\n",
       "    <tr>\n",
       "      <th>0</th>\n",
       "      <td>X</td>\n",
       "      <td>1</td>\n",
       "      <td>3</td>\n",
       "    </tr>\n",
       "  </tbody>\n",
       "</table>\n",
       "</div>"
      ],
      "text/plain": [
       "  key  value_x  value_y\n",
       "0   X        1        3"
      ]
     },
     "execution_count": 157,
     "metadata": {},
     "output_type": "execute_result"
    }
   ],
   "source": [
    "# inner of sql\n",
    "pd.merge(a, b, on=\"key\", how=\"inner\")"
   ]
  },
  {
   "cell_type": "code",
   "execution_count": 159,
   "metadata": {},
   "outputs": [
    {
     "data": {
      "text/html": [
       "<div>\n",
       "<style scoped>\n",
       "    .dataframe tbody tr th:only-of-type {\n",
       "        vertical-align: middle;\n",
       "    }\n",
       "\n",
       "    .dataframe tbody tr th {\n",
       "        vertical-align: top;\n",
       "    }\n",
       "\n",
       "    .dataframe thead th {\n",
       "        text-align: right;\n",
       "    }\n",
       "</style>\n",
       "<table border=\"1\" class=\"dataframe\">\n",
       "  <thead>\n",
       "    <tr style=\"text-align: right;\">\n",
       "      <th></th>\n",
       "      <th>key</th>\n",
       "      <th>value_x</th>\n",
       "      <th>value_y</th>\n",
       "    </tr>\n",
       "  </thead>\n",
       "  <tbody>\n",
       "    <tr>\n",
       "      <th>0</th>\n",
       "      <td>X</td>\n",
       "      <td>1.0</td>\n",
       "      <td>3.0</td>\n",
       "    </tr>\n",
       "    <tr>\n",
       "      <th>1</th>\n",
       "      <td>Y</td>\n",
       "      <td>2.0</td>\n",
       "      <td>NaN</td>\n",
       "    </tr>\n",
       "    <tr>\n",
       "      <th>2</th>\n",
       "      <td>Z</td>\n",
       "      <td>NaN</td>\n",
       "      <td>4.0</td>\n",
       "    </tr>\n",
       "  </tbody>\n",
       "</table>\n",
       "</div>"
      ],
      "text/plain": [
       "  key  value_x  value_y\n",
       "0   X      1.0      3.0\n",
       "1   Y      2.0      NaN\n",
       "2   Z      NaN      4.0"
      ]
     },
     "execution_count": 159,
     "metadata": {},
     "output_type": "execute_result"
    }
   ],
   "source": [
    "# outer of sql\n",
    "pd.merge(a, b, on=\"key\", how=\"outer\")"
   ]
  },
  {
   "cell_type": "code",
   "execution_count": 160,
   "metadata": {},
   "outputs": [
    {
     "data": {
      "text/html": [
       "<div>\n",
       "<style scoped>\n",
       "    .dataframe tbody tr th:only-of-type {\n",
       "        vertical-align: middle;\n",
       "    }\n",
       "\n",
       "    .dataframe tbody tr th {\n",
       "        vertical-align: top;\n",
       "    }\n",
       "\n",
       "    .dataframe thead th {\n",
       "        text-align: right;\n",
       "    }\n",
       "</style>\n",
       "<table border=\"1\" class=\"dataframe\">\n",
       "  <thead>\n",
       "    <tr style=\"text-align: right;\">\n",
       "      <th></th>\n",
       "      <th>key</th>\n",
       "      <th>value_x</th>\n",
       "      <th>value_y</th>\n",
       "    </tr>\n",
       "  </thead>\n",
       "  <tbody>\n",
       "    <tr>\n",
       "      <th>0</th>\n",
       "      <td>X</td>\n",
       "      <td>1</td>\n",
       "      <td>3.0</td>\n",
       "    </tr>\n",
       "    <tr>\n",
       "      <th>1</th>\n",
       "      <td>Y</td>\n",
       "      <td>2</td>\n",
       "      <td>NaN</td>\n",
       "    </tr>\n",
       "  </tbody>\n",
       "</table>\n",
       "</div>"
      ],
      "text/plain": [
       "  key  value_x  value_y\n",
       "0   X        1      3.0\n",
       "1   Y        2      NaN"
      ]
     },
     "execution_count": 160,
     "metadata": {},
     "output_type": "execute_result"
    }
   ],
   "source": [
    "# left join\n",
    "pd.merge(a, b, on=\"key\", how=\"left\")"
   ]
  },
  {
   "cell_type": "code",
   "execution_count": 161,
   "metadata": {},
   "outputs": [
    {
     "data": {
      "text/html": [
       "<div>\n",
       "<style scoped>\n",
       "    .dataframe tbody tr th:only-of-type {\n",
       "        vertical-align: middle;\n",
       "    }\n",
       "\n",
       "    .dataframe tbody tr th {\n",
       "        vertical-align: top;\n",
       "    }\n",
       "\n",
       "    .dataframe thead th {\n",
       "        text-align: right;\n",
       "    }\n",
       "</style>\n",
       "<table border=\"1\" class=\"dataframe\">\n",
       "  <thead>\n",
       "    <tr style=\"text-align: right;\">\n",
       "      <th></th>\n",
       "      <th>key</th>\n",
       "      <th>value_x</th>\n",
       "      <th>value_y</th>\n",
       "    </tr>\n",
       "  </thead>\n",
       "  <tbody>\n",
       "    <tr>\n",
       "      <th>0</th>\n",
       "      <td>X</td>\n",
       "      <td>1.0</td>\n",
       "      <td>3</td>\n",
       "    </tr>\n",
       "    <tr>\n",
       "      <th>1</th>\n",
       "      <td>Z</td>\n",
       "      <td>NaN</td>\n",
       "      <td>4</td>\n",
       "    </tr>\n",
       "  </tbody>\n",
       "</table>\n",
       "</div>"
      ],
      "text/plain": [
       "  key  value_x  value_y\n",
       "0   X      1.0        3\n",
       "1   Z      NaN        4"
      ]
     },
     "execution_count": 161,
     "metadata": {},
     "output_type": "execute_result"
    }
   ],
   "source": [
    "# right join\n",
    "pd.merge(a, b, on=\"key\", how=\"right\")"
   ]
  },
  {
   "cell_type": "markdown",
   "metadata": {},
   "source": [
    "## 五、pivot_table数据透视表"
   ]
  },
  {
   "cell_type": "markdown",
   "metadata": {},
   "source": [
    "### reshape数据融合"
   ]
  },
  {
   "cell_type": "code",
   "execution_count": 163,
   "metadata": {},
   "outputs": [],
   "source": [
    "import datetime"
   ]
  },
  {
   "cell_type": "code",
   "execution_count": 165,
   "metadata": {},
   "outputs": [],
   "source": [
    "df5 = pd.DataFrame({'A': ['one', 'one', 'two', 'three'] * 6,\n",
    "                   'B': ['a', 'b', 'c'] * 8,\n",
    "                   'C': np.random.randn(24),\n",
    "                   'D': np.random.randn(24),\n",
    "                   'E': [datetime.datetime(2019,i,1) for i in range(1, 13)]+\n",
    "                   [datetime.datetime(2019,i,15) for i in range(1, 13)]})"
   ]
  },
  {
   "cell_type": "code",
   "execution_count": 167,
   "metadata": {
    "scrolled": true
   },
   "outputs": [
    {
     "data": {
      "text/html": [
       "<div>\n",
       "<style scoped>\n",
       "    .dataframe tbody tr th:only-of-type {\n",
       "        vertical-align: middle;\n",
       "    }\n",
       "\n",
       "    .dataframe tbody tr th {\n",
       "        vertical-align: top;\n",
       "    }\n",
       "\n",
       "    .dataframe thead th {\n",
       "        text-align: right;\n",
       "    }\n",
       "</style>\n",
       "<table border=\"1\" class=\"dataframe\">\n",
       "  <thead>\n",
       "    <tr style=\"text-align: right;\">\n",
       "      <th></th>\n",
       "      <th>C</th>\n",
       "      <th>-1.692560</th>\n",
       "      <th>-1.311352</th>\n",
       "      <th>-0.892041</th>\n",
       "      <th>-0.435595</th>\n",
       "      <th>-0.258255</th>\n",
       "      <th>-0.228509</th>\n",
       "      <th>-0.116088</th>\n",
       "      <th>-0.096270</th>\n",
       "      <th>-0.087198</th>\n",
       "      <th>-0.038040</th>\n",
       "      <th>...</th>\n",
       "      <th>0.461454</th>\n",
       "      <th>0.670352</th>\n",
       "      <th>0.694154</th>\n",
       "      <th>0.789646</th>\n",
       "      <th>0.979232</th>\n",
       "      <th>1.010102</th>\n",
       "      <th>1.475943</th>\n",
       "      <th>1.588589</th>\n",
       "      <th>1.602828</th>\n",
       "      <th>2.501137</th>\n",
       "    </tr>\n",
       "    <tr>\n",
       "      <th>A</th>\n",
       "      <th>B</th>\n",
       "      <th></th>\n",
       "      <th></th>\n",
       "      <th></th>\n",
       "      <th></th>\n",
       "      <th></th>\n",
       "      <th></th>\n",
       "      <th></th>\n",
       "      <th></th>\n",
       "      <th></th>\n",
       "      <th></th>\n",
       "      <th></th>\n",
       "      <th></th>\n",
       "      <th></th>\n",
       "      <th></th>\n",
       "      <th></th>\n",
       "      <th></th>\n",
       "      <th></th>\n",
       "      <th></th>\n",
       "      <th></th>\n",
       "      <th></th>\n",
       "      <th></th>\n",
       "    </tr>\n",
       "  </thead>\n",
       "  <tbody>\n",
       "    <tr>\n",
       "      <th rowspan=\"3\" valign=\"top\">one</th>\n",
       "      <th>a</th>\n",
       "      <td>-0.837032</td>\n",
       "      <td>NaN</td>\n",
       "      <td>NaN</td>\n",
       "      <td>-2.051691</td>\n",
       "      <td>NaN</td>\n",
       "      <td>NaN</td>\n",
       "      <td>NaN</td>\n",
       "      <td>NaN</td>\n",
       "      <td>NaN</td>\n",
       "      <td>NaN</td>\n",
       "      <td>...</td>\n",
       "      <td>0.318303</td>\n",
       "      <td>NaN</td>\n",
       "      <td>NaN</td>\n",
       "      <td>NaN</td>\n",
       "      <td>NaN</td>\n",
       "      <td>NaN</td>\n",
       "      <td>NaN</td>\n",
       "      <td>NaN</td>\n",
       "      <td>-0.900244</td>\n",
       "      <td>NaN</td>\n",
       "    </tr>\n",
       "    <tr>\n",
       "      <th>b</th>\n",
       "      <td>NaN</td>\n",
       "      <td>NaN</td>\n",
       "      <td>NaN</td>\n",
       "      <td>NaN</td>\n",
       "      <td>NaN</td>\n",
       "      <td>NaN</td>\n",
       "      <td>NaN</td>\n",
       "      <td>NaN</td>\n",
       "      <td>1.226092</td>\n",
       "      <td>NaN</td>\n",
       "      <td>...</td>\n",
       "      <td>NaN</td>\n",
       "      <td>-0.710516</td>\n",
       "      <td>NaN</td>\n",
       "      <td>NaN</td>\n",
       "      <td>NaN</td>\n",
       "      <td>NaN</td>\n",
       "      <td>-0.346225</td>\n",
       "      <td>NaN</td>\n",
       "      <td>NaN</td>\n",
       "      <td>NaN</td>\n",
       "    </tr>\n",
       "    <tr>\n",
       "      <th>c</th>\n",
       "      <td>NaN</td>\n",
       "      <td>NaN</td>\n",
       "      <td>NaN</td>\n",
       "      <td>NaN</td>\n",
       "      <td>NaN</td>\n",
       "      <td>0.916326</td>\n",
       "      <td>NaN</td>\n",
       "      <td>NaN</td>\n",
       "      <td>NaN</td>\n",
       "      <td>NaN</td>\n",
       "      <td>...</td>\n",
       "      <td>NaN</td>\n",
       "      <td>NaN</td>\n",
       "      <td>NaN</td>\n",
       "      <td>NaN</td>\n",
       "      <td>NaN</td>\n",
       "      <td>-0.642825</td>\n",
       "      <td>NaN</td>\n",
       "      <td>NaN</td>\n",
       "      <td>NaN</td>\n",
       "      <td>NaN</td>\n",
       "    </tr>\n",
       "    <tr>\n",
       "      <th rowspan=\"3\" valign=\"top\">three</th>\n",
       "      <th>a</th>\n",
       "      <td>NaN</td>\n",
       "      <td>NaN</td>\n",
       "      <td>NaN</td>\n",
       "      <td>NaN</td>\n",
       "      <td>NaN</td>\n",
       "      <td>NaN</td>\n",
       "      <td>NaN</td>\n",
       "      <td>NaN</td>\n",
       "      <td>NaN</td>\n",
       "      <td>0.19423</td>\n",
       "      <td>...</td>\n",
       "      <td>NaN</td>\n",
       "      <td>NaN</td>\n",
       "      <td>NaN</td>\n",
       "      <td>NaN</td>\n",
       "      <td>1.129036</td>\n",
       "      <td>NaN</td>\n",
       "      <td>NaN</td>\n",
       "      <td>NaN</td>\n",
       "      <td>NaN</td>\n",
       "      <td>NaN</td>\n",
       "    </tr>\n",
       "    <tr>\n",
       "      <th>b</th>\n",
       "      <td>NaN</td>\n",
       "      <td>NaN</td>\n",
       "      <td>NaN</td>\n",
       "      <td>NaN</td>\n",
       "      <td>NaN</td>\n",
       "      <td>NaN</td>\n",
       "      <td>NaN</td>\n",
       "      <td>0.694968</td>\n",
       "      <td>NaN</td>\n",
       "      <td>NaN</td>\n",
       "      <td>...</td>\n",
       "      <td>NaN</td>\n",
       "      <td>NaN</td>\n",
       "      <td>0.77698</td>\n",
       "      <td>NaN</td>\n",
       "      <td>NaN</td>\n",
       "      <td>NaN</td>\n",
       "      <td>NaN</td>\n",
       "      <td>NaN</td>\n",
       "      <td>NaN</td>\n",
       "      <td>NaN</td>\n",
       "    </tr>\n",
       "    <tr>\n",
       "      <th>c</th>\n",
       "      <td>NaN</td>\n",
       "      <td>NaN</td>\n",
       "      <td>NaN</td>\n",
       "      <td>NaN</td>\n",
       "      <td>-1.019811</td>\n",
       "      <td>NaN</td>\n",
       "      <td>NaN</td>\n",
       "      <td>NaN</td>\n",
       "      <td>NaN</td>\n",
       "      <td>NaN</td>\n",
       "      <td>...</td>\n",
       "      <td>NaN</td>\n",
       "      <td>NaN</td>\n",
       "      <td>NaN</td>\n",
       "      <td>0.413016</td>\n",
       "      <td>NaN</td>\n",
       "      <td>NaN</td>\n",
       "      <td>NaN</td>\n",
       "      <td>NaN</td>\n",
       "      <td>NaN</td>\n",
       "      <td>NaN</td>\n",
       "    </tr>\n",
       "    <tr>\n",
       "      <th rowspan=\"3\" valign=\"top\">two</th>\n",
       "      <th>a</th>\n",
       "      <td>NaN</td>\n",
       "      <td>NaN</td>\n",
       "      <td>-0.904683</td>\n",
       "      <td>NaN</td>\n",
       "      <td>NaN</td>\n",
       "      <td>NaN</td>\n",
       "      <td>NaN</td>\n",
       "      <td>NaN</td>\n",
       "      <td>NaN</td>\n",
       "      <td>NaN</td>\n",
       "      <td>...</td>\n",
       "      <td>NaN</td>\n",
       "      <td>NaN</td>\n",
       "      <td>NaN</td>\n",
       "      <td>NaN</td>\n",
       "      <td>NaN</td>\n",
       "      <td>NaN</td>\n",
       "      <td>NaN</td>\n",
       "      <td>0.571885</td>\n",
       "      <td>NaN</td>\n",
       "      <td>NaN</td>\n",
       "    </tr>\n",
       "    <tr>\n",
       "      <th>b</th>\n",
       "      <td>NaN</td>\n",
       "      <td>-1.793342</td>\n",
       "      <td>NaN</td>\n",
       "      <td>NaN</td>\n",
       "      <td>NaN</td>\n",
       "      <td>NaN</td>\n",
       "      <td>NaN</td>\n",
       "      <td>NaN</td>\n",
       "      <td>NaN</td>\n",
       "      <td>NaN</td>\n",
       "      <td>...</td>\n",
       "      <td>NaN</td>\n",
       "      <td>NaN</td>\n",
       "      <td>NaN</td>\n",
       "      <td>NaN</td>\n",
       "      <td>NaN</td>\n",
       "      <td>NaN</td>\n",
       "      <td>NaN</td>\n",
       "      <td>NaN</td>\n",
       "      <td>NaN</td>\n",
       "      <td>NaN</td>\n",
       "    </tr>\n",
       "    <tr>\n",
       "      <th>c</th>\n",
       "      <td>NaN</td>\n",
       "      <td>NaN</td>\n",
       "      <td>NaN</td>\n",
       "      <td>NaN</td>\n",
       "      <td>NaN</td>\n",
       "      <td>NaN</td>\n",
       "      <td>1.203137</td>\n",
       "      <td>NaN</td>\n",
       "      <td>NaN</td>\n",
       "      <td>NaN</td>\n",
       "      <td>...</td>\n",
       "      <td>NaN</td>\n",
       "      <td>NaN</td>\n",
       "      <td>NaN</td>\n",
       "      <td>NaN</td>\n",
       "      <td>NaN</td>\n",
       "      <td>NaN</td>\n",
       "      <td>NaN</td>\n",
       "      <td>NaN</td>\n",
       "      <td>NaN</td>\n",
       "      <td>-1.349799</td>\n",
       "    </tr>\n",
       "  </tbody>\n",
       "</table>\n",
       "<p>9 rows × 24 columns</p>\n",
       "</div>"
      ],
      "text/plain": [
       "C        -1.692560  -1.311352  -0.892041  -0.435595  -0.258255  -0.228509  \\\n",
       "A     B                                                                     \n",
       "one   a  -0.837032        NaN        NaN  -2.051691        NaN        NaN   \n",
       "      b        NaN        NaN        NaN        NaN        NaN        NaN   \n",
       "      c        NaN        NaN        NaN        NaN        NaN   0.916326   \n",
       "three a        NaN        NaN        NaN        NaN        NaN        NaN   \n",
       "      b        NaN        NaN        NaN        NaN        NaN        NaN   \n",
       "      c        NaN        NaN        NaN        NaN  -1.019811        NaN   \n",
       "two   a        NaN        NaN  -0.904683        NaN        NaN        NaN   \n",
       "      b        NaN  -1.793342        NaN        NaN        NaN        NaN   \n",
       "      c        NaN        NaN        NaN        NaN        NaN        NaN   \n",
       "\n",
       "C        -0.116088  -0.096270  -0.087198  -0.038040  ...   0.461454  \\\n",
       "A     B                                              ...              \n",
       "one   a        NaN        NaN        NaN        NaN  ...   0.318303   \n",
       "      b        NaN        NaN   1.226092        NaN  ...        NaN   \n",
       "      c        NaN        NaN        NaN        NaN  ...        NaN   \n",
       "three a        NaN        NaN        NaN    0.19423  ...        NaN   \n",
       "      b        NaN   0.694968        NaN        NaN  ...        NaN   \n",
       "      c        NaN        NaN        NaN        NaN  ...        NaN   \n",
       "two   a        NaN        NaN        NaN        NaN  ...        NaN   \n",
       "      b        NaN        NaN        NaN        NaN  ...        NaN   \n",
       "      c   1.203137        NaN        NaN        NaN  ...        NaN   \n",
       "\n",
       "C         0.670352   0.694154   0.789646   0.979232   1.010102   1.475943  \\\n",
       "A     B                                                                     \n",
       "one   a        NaN        NaN        NaN        NaN        NaN        NaN   \n",
       "      b  -0.710516        NaN        NaN        NaN        NaN  -0.346225   \n",
       "      c        NaN        NaN        NaN        NaN  -0.642825        NaN   \n",
       "three a        NaN        NaN        NaN   1.129036        NaN        NaN   \n",
       "      b        NaN    0.77698        NaN        NaN        NaN        NaN   \n",
       "      c        NaN        NaN   0.413016        NaN        NaN        NaN   \n",
       "two   a        NaN        NaN        NaN        NaN        NaN        NaN   \n",
       "      b        NaN        NaN        NaN        NaN        NaN        NaN   \n",
       "      c        NaN        NaN        NaN        NaN        NaN        NaN   \n",
       "\n",
       "C         1.588589   1.602828   2.501137  \n",
       "A     B                                   \n",
       "one   a        NaN  -0.900244        NaN  \n",
       "      b        NaN        NaN        NaN  \n",
       "      c        NaN        NaN        NaN  \n",
       "three a        NaN        NaN        NaN  \n",
       "      b        NaN        NaN        NaN  \n",
       "      c        NaN        NaN        NaN  \n",
       "two   a   0.571885        NaN        NaN  \n",
       "      b        NaN        NaN        NaN  \n",
       "      c        NaN        NaN  -1.349799  \n",
       "\n",
       "[9 rows x 24 columns]"
      ]
     },
     "execution_count": 167,
     "metadata": {},
     "output_type": "execute_result"
    }
   ],
   "source": [
    "pd.pivot_table(df5, values=\"D\", index=[\"A\", \"B\"], columns=[\"C\"])"
   ]
  },
  {
   "cell_type": "markdown",
   "metadata": {},
   "source": [
    "## 六、时间序列"
   ]
  },
  {
   "cell_type": "markdown",
   "metadata": {},
   "source": [
    "### 生成时间序列"
   ]
  },
  {
   "cell_type": "code",
   "execution_count": 175,
   "metadata": {},
   "outputs": [],
   "source": [
    "time_range = pd.date_range(\"20191110\", periods=10, freq=\"S\")"
   ]
  },
  {
   "cell_type": "code",
   "execution_count": 176,
   "metadata": {},
   "outputs": [
    {
     "data": {
      "text/plain": [
       "DatetimeIndex(['2019-11-10 00:00:00', '2019-11-10 00:00:01',\n",
       "               '2019-11-10 00:00:02', '2019-11-10 00:00:03',\n",
       "               '2019-11-10 00:00:04', '2019-11-10 00:00:05',\n",
       "               '2019-11-10 00:00:06', '2019-11-10 00:00:07',\n",
       "               '2019-11-10 00:00:08', '2019-11-10 00:00:09'],\n",
       "              dtype='datetime64[ns]', freq='S')"
      ]
     },
     "execution_count": 176,
     "metadata": {},
     "output_type": "execute_result"
    }
   ],
   "source": [
    "time_range"
   ]
  },
  {
   "cell_type": "markdown",
   "metadata": {},
   "source": [
    "### 汇制图形"
   ]
  },
  {
   "cell_type": "code",
   "execution_count": 182,
   "metadata": {},
   "outputs": [],
   "source": [
    "ts = pd.Series(np.random.randn(1000), index=pd.date_range(\"20191110\", periods=1000))\n",
    "ts = ts.cumsum()"
   ]
  },
  {
   "cell_type": "code",
   "execution_count": 184,
   "metadata": {},
   "outputs": [
    {
     "data": {
      "image/png": "[encoded data removed]",
      "text/plain": [
       "<Figure size 432x288 with 1 Axes>"
      ]
     },
     "metadata": {
      "needs_background": "light"
     },
     "output_type": "display_data"
    }
   ],
   "source": [
    "# quick plot\n",
    "from pylab import *\n",
    "\n",
    "ts.plot()\n",
    "show()"
   ]
  },
  {
   "cell_type": "markdown",
   "metadata": {},
   "source": [
    "## 七、文件操作"
   ]
  },
  {
   "cell_type": "code",
   "execution_count": 21,
   "metadata": {},
   "outputs": [],
   "source": [
    "df6 = df.copy()"
   ]
  },
  {
   "cell_type": "code",
   "execution_count": 23,
   "metadata": {},
   "outputs": [],
   "source": [
    "# save to csv\n",
    "df6.to_csv(\"./sample.csv\")"
   ]
  },
  {
   "cell_type": "code",
   "execution_count": 26,
   "metadata": {},
   "outputs": [],
   "source": [
    "# load from csv\n",
    "df7 = pd.read_csv(\"./sample.csv\")"
   ]
  },
  {
   "cell_type": "code",
   "execution_count": 27,
   "metadata": {},
   "outputs": [
    {
     "data": {
      "text/html": [
       "<div>\n",
       "<style scoped>\n",
       "    .dataframe tbody tr th:only-of-type {\n",
       "        vertical-align: middle;\n",
       "    }\n",
       "\n",
       "    .dataframe tbody tr th {\n",
       "        vertical-align: top;\n",
       "    }\n",
       "\n",
       "    .dataframe thead th {\n",
       "        text-align: right;\n",
       "    }\n",
       "</style>\n",
       "<table border=\"1\" class=\"dataframe\">\n",
       "  <thead>\n",
       "    <tr style=\"text-align: right;\">\n",
       "      <th></th>\n",
       "      <th>Unnamed: 0</th>\n",
       "      <th>A</th>\n",
       "      <th>B</th>\n",
       "      <th>C</th>\n",
       "      <th>D</th>\n",
       "      <th>E</th>\n",
       "    </tr>\n",
       "  </thead>\n",
       "  <tbody>\n",
       "    <tr>\n",
       "      <th>0</th>\n",
       "      <td>2019-11-10</td>\n",
       "      <td>-0.169874</td>\n",
       "      <td>-0.762116</td>\n",
       "      <td>1.777038</td>\n",
       "      <td>-1.660435</td>\n",
       "      <td>0.330659</td>\n",
       "    </tr>\n",
       "    <tr>\n",
       "      <th>1</th>\n",
       "      <td>2019-11-11</td>\n",
       "      <td>1.177019</td>\n",
       "      <td>-0.407077</td>\n",
       "      <td>-0.815914</td>\n",
       "      <td>-0.525450</td>\n",
       "      <td>-1.650353</td>\n",
       "    </tr>\n",
       "    <tr>\n",
       "      <th>2</th>\n",
       "      <td>2019-11-12</td>\n",
       "      <td>-1.114977</td>\n",
       "      <td>-0.187839</td>\n",
       "      <td>0.086392</td>\n",
       "      <td>0.376535</td>\n",
       "      <td>-1.226730</td>\n",
       "    </tr>\n",
       "    <tr>\n",
       "      <th>3</th>\n",
       "      <td>2019-11-13</td>\n",
       "      <td>1.100944</td>\n",
       "      <td>0.810892</td>\n",
       "      <td>-1.515030</td>\n",
       "      <td>0.256379</td>\n",
       "      <td>-0.305000</td>\n",
       "    </tr>\n",
       "    <tr>\n",
       "      <th>4</th>\n",
       "      <td>2019-11-14</td>\n",
       "      <td>-1.472695</td>\n",
       "      <td>-1.417682</td>\n",
       "      <td>-0.071833</td>\n",
       "      <td>0.767881</td>\n",
       "      <td>0.929505</td>\n",
       "    </tr>\n",
       "    <tr>\n",
       "      <th>5</th>\n",
       "      <td>2019-11-15</td>\n",
       "      <td>0.712115</td>\n",
       "      <td>0.045337</td>\n",
       "      <td>-1.256530</td>\n",
       "      <td>-0.749846</td>\n",
       "      <td>-2.420309</td>\n",
       "    </tr>\n",
       "    <tr>\n",
       "      <th>6</th>\n",
       "      <td>2019-11-16</td>\n",
       "      <td>0.781441</td>\n",
       "      <td>-0.850463</td>\n",
       "      <td>1.359939</td>\n",
       "      <td>-2.021644</td>\n",
       "      <td>-0.027104</td>\n",
       "    </tr>\n",
       "    <tr>\n",
       "      <th>7</th>\n",
       "      <td>2019-11-17</td>\n",
       "      <td>-0.251797</td>\n",
       "      <td>-1.259120</td>\n",
       "      <td>-0.455509</td>\n",
       "      <td>-0.346007</td>\n",
       "      <td>-0.320375</td>\n",
       "    </tr>\n",
       "  </tbody>\n",
       "</table>\n",
       "</div>"
      ],
      "text/plain": [
       "   Unnamed: 0         A         B         C         D         E\n",
       "0  2019-11-10 -0.169874 -0.762116  1.777038 -1.660435  0.330659\n",
       "1  2019-11-11  1.177019 -0.407077 -0.815914 -0.525450 -1.650353\n",
       "2  2019-11-12 -1.114977 -0.187839  0.086392  0.376535 -1.226730\n",
       "3  2019-11-13  1.100944  0.810892 -1.515030  0.256379 -0.305000\n",
       "4  2019-11-14 -1.472695 -1.417682 -0.071833  0.767881  0.929505\n",
       "5  2019-11-15  0.712115  0.045337 -1.256530 -0.749846 -2.420309\n",
       "6  2019-11-16  0.781441 -0.850463  1.359939 -2.021644 -0.027104\n",
       "7  2019-11-17 -0.251797 -1.259120 -0.455509 -0.346007 -0.320375"
      ]
     },
     "execution_count": 27,
     "metadata": {},
     "output_type": "execute_result"
    }
   ],
   "source": [
    "df7"
   ]
  },
  {
   "cell_type": "markdown",
   "metadata": {},
   "source": [
    "## 八、API获取股票数据"
   ]
  },
  {
   "cell_type": "code",
   "execution_count": 1,
   "metadata": {},
   "outputs": [
    {
     "name": "stdout",
     "output_type": "stream",
     "text": [
      "Collecting pandas_datareader\n",
      "\u001b[?25l  Downloading https://files.pythonhosted.org/packages/14/52/accb990baebe0063977f26e02df36aa7eb4015ed4e86f828cd76273cd6f1/pandas_datareader-0.8.1-py2.py3-none-any.whl (107kB)\n",
      "\u001b[K     |████████████████████████████████| 112kB 282kB/s eta 0:00:01\n",
      "\u001b[?25hCollecting requests>=2.3.0\n",
      "\u001b[?25l  Downloading https://files.pythonhosted.org/packages/51/bd/23c926cd341ea6b7dd0b2a00aba99ae0f828be89d72b2190f27c11d4b7fb/requests-2.22.0-py2.py3-none-any.whl (57kB)\n",
      "\u001b[K     |████████████████████████████████| 61kB 141kB/s eta 0:00:01\n",
      "\u001b[?25hCollecting lxml\n",
      "\u001b[?25l  Downloading https://files.pythonhosted.org/packages/bd/9f/6cda4672d3ad1aa4cf818ab8401a763787efba751c88aaf4b38fc8f923bb/lxml-4.4.1-cp37-cp37m-macosx_10_6_intel.macosx_10_9_intel.macosx_10_9_x86_64.macosx_10_10_intel.macosx_10_10_x86_64.whl (8.9MB)\n",
      "\u001b[K     |████████████████████████████████| 8.9MB 357kB/s eta 0:00:01\n",
      "\u001b[?25hRequirement already satisfied: pandas>=0.21 in /usr/local/lib/python3.7/site-packages (from pandas_datareader) (0.25.3)\n",
      "Collecting urllib3!=1.25.0,!=1.25.1,<1.26,>=1.21.1\n",
      "\u001b[?25l  Downloading https://files.pythonhosted.org/packages/e0/da/55f51ea951e1b7c63a579c09dd7db825bb730ec1fe9c0180fc77bfb31448/urllib3-1.25.6-py2.py3-none-any.whl (125kB)\n",
      "\u001b[K     |████████████████████████████████| 133kB 303kB/s eta 0:00:01\n",
      "\u001b[?25hCollecting chardet<3.1.0,>=3.0.2\n",
      "  Using cached https://files.pythonhosted.org/packages/bc/a9/01ffebfb562e4274b6487b4bb1ddec7ca55ec7510b22e4c51f14098443b8/chardet-3.0.4-py2.py3-none-any.whl\n",
      "Collecting certifi>=2017.4.17\n",
      "\u001b[?25l  Downloading https://files.pythonhosted.org/packages/18/b0/8146a4f8dd402f60744fa380bc73ca47303cccf8b9190fd16a827281eac2/certifi-2019.9.11-py2.py3-none-any.whl (154kB)\n",
      "\u001b[K     |████████████████████████████████| 163kB 311kB/s eta 0:00:01\n",
      "\u001b[?25hCollecting idna<2.9,>=2.5\n",
      "  Using cached https://files.pythonhosted.org/packages/14/2c/cd551d81dbe15200be1cf41cd03869a46fe7226e7450af7a6545bfc474c9/idna-2.8-py2.py3-none-any.whl\n",
      "Requirement already satisfied: pytz>=2017.2 in /usr/local/lib/python3.7/site-packages (from pandas>=0.21->pandas_datareader) (2019.3)\n",
      "Requirement already satisfied: python-dateutil>=2.6.1 in /usr/local/Cellar/ipython/7.8.0/libexec/vendor/lib/python3.7/site-packages (from pandas>=0.21->pandas_datareader) (2.8.0)\n",
      "Requirement already satisfied: numpy>=1.13.3 in /usr/local/lib/python3.7/site-packages (from pandas>=0.21->pandas_datareader) (1.17.3)\n",
      "Requirement already satisfied: six>=1.5 in /usr/local/Cellar/ipython/7.8.0/libexec/vendor/lib/python3.7/site-packages (from python-dateutil>=2.6.1->pandas>=0.21->pandas_datareader) (1.12.0)\n",
      "Installing collected packages: urllib3, chardet, certifi, idna, requests, lxml, pandas-datareader\n",
      "Successfully installed certifi-2019.9.11 chardet-3.0.4 idna-2.8 lxml-4.4.1 pandas-datareader-0.8.1 requests-2.22.0 urllib3-1.25.6\n",
      "Note: you may need to restart the kernel to use updated packages.\n"
     ]
    }
   ],
   "source": [
    "pip install pandas_datareader"
   ]
  },
  {
   "cell_type": "code",
   "execution_count": 4,
   "metadata": {},
   "outputs": [],
   "source": [
    "import pandas_datareader.data as web"
   ]
  },
  {
   "cell_type": "code",
   "execution_count": 9,
   "metadata": {},
   "outputs": [],
   "source": [
    "import datetime"
   ]
  },
  {
   "cell_type": "code",
   "execution_count": 29,
   "metadata": {},
   "outputs": [],
   "source": [
    "# fetch from yahoo api\n",
    "df_csv = web.DataReader(\"601233.SS\", \"yahoo\", datetime.datetime(2019,11,8), datetime.date.today())"
   ]
  },
  {
   "cell_type": "code",
   "execution_count": 31,
   "metadata": {},
   "outputs": [],
   "source": [
    "# save to csv\n",
    "df_csv.to_csv('601233.SS.yaohoo.csv')"
   ]
  }
 ],
 "metadata": {
  "kernelspec": {
   "display_name": "Python 3",
   "language": "python",
   "name": "python3"
  },
  "language_info": {
   "codemirror_mode": {
    "name": "ipython",
    "version": 3
   },
   "file_extension": ".py",
   "mimetype": "text/x-python",
   "name": "python",
   "nbconvert_exporter": "python",
   "pygments_lexer": "ipython3",
   "version": "3.7.5"
  }
 },
 "nbformat": 4,
 "nbformat_minor": 2
}
