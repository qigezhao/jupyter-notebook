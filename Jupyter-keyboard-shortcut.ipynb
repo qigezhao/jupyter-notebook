{
 "cells": [
  {
   "cell_type": "markdown",
   "metadata": {},
   "source": [
    "# Jupyter快捷键"
   ]
  },
  {
   "cell_type": "markdown",
   "metadata": {},
   "source": [
    "## 编辑模式下"
   ]
  },
  {
   "cell_type": "markdown",
   "metadata": {},
   "source": [
    "ESC：退出编辑模式"
   ]
  },
  {
   "cell_type": "markdown",
   "metadata": {},
   "source": [
    "ESC+M：转为Markdown模式"
   ]
  },
  {
   "cell_type": "markdown",
   "metadata": {},
   "source": [
    "ESC+Y：转为Code模式"
   ]
  },
  {
   "cell_type": "markdown",
   "metadata": {},
   "source": [
    "Option+Enter：执行并添加一行"
   ]
  },
  {
   "cell_type": "markdown",
   "metadata": {},
   "source": [
    "Control+Enter：执行当前行"
   ]
  },
  {
   "cell_type": "markdown",
   "metadata": {},
   "source": [
    "## 非编辑状态下"
   ]
  },
  {
   "cell_type": "markdown",
   "metadata": {},
   "source": [
    "Enter：进入编辑模式"
   ]
  },
  {
   "cell_type": "markdown",
   "metadata": {},
   "source": [
    "A：在上面添加一行"
   ]
  },
  {
   "cell_type": "markdown",
   "metadata": {},
   "source": [
    "B：在下面添加一行"
   ]
  },
  {
   "cell_type": "markdown",
   "metadata": {},
   "source": [
    "DD：删除当前行"
   ]
  }
 ],
 "metadata": {
  "kernelspec": {
   "display_name": "Python 3",
   "language": "python",
   "name": "python3"
  },
  "language_info": {
   "codemirror_mode": {
    "name": "ipython",
    "version": 3
   },
   "file_extension": ".py",
   "mimetype": "text/x-python",
   "name": "python",
   "nbconvert_exporter": "python",
   "pygments_lexer": "ipython3",
   "version": "3.7.5"
  }
 },
 "nbformat": 4,
 "nbformat_minor": 2
}
